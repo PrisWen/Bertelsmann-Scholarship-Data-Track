{
 "cells": [
  {
   "cell_type": "markdown",
   "metadata": {},
   "source": [
    "The edit distance between two strings is a measure of their similarity. The smaller the edit distance, the more similar the strings are with regard to the minimum number of insert, delete and substitute operations needed to transform one string into the other. Consider the strings kitten and sitting. The first string can be transformed into the second string with the following operations: Substitute the k with an s, substitute the e with an i, and insert a g at the end of the string. This is the smallest number of operations that can be performed to transform kitten into sitting. As a result, the edit distance is 3. Write a recursive function that computes the edit distance between two strings\n",
    "\n",
    "Use your recursive function to write a program that reads two strings from the user and displays the edit distance between them."
   ]
  },
  {
   "cell_type": "code",
   "execution_count": null,
   "metadata": {},
   "outputs": [],
   "source": [
    "def distance(s,t):\n",
    "    if len(s) == 0:\n",
    "        return len(t)\n",
    "    elif len(t) == 0:\n",
    "        return len(s)\n",
    "    else:\n",
    "        cost = 0\n",
    "        if s[-1] != t[-1]:\n",
    "            cost = 1\n",
    "        d1 = distance(s[:-1], t) + 1\n",
    "        d2 = distance(s, t[:-1]) + 1\n",
    "        d3 = distance(s[:-1], t[:-1]) + cost\n",
    "        return min(d1,d2,d3)\n",
    "\n",
    "    \n",
    "# main\n",
    "s = input('Enter first string: ')\n",
    "t = input('Enter second string: ')\n",
    "print('The edit distance between {} and {} is {}'.format(s, t, distance(s,t)))"
   ]
  }
 ],
 "metadata": {
  "kernelspec": {
   "display_name": "Python 3",
   "language": "python",
   "name": "python3"
  },
  "language_info": {
   "codemirror_mode": {
    "name": "ipython",
    "version": 3
   },
   "file_extension": ".py",
   "mimetype": "text/x-python",
   "name": "python",
   "nbconvert_exporter": "python",
   "pygments_lexer": "ipython3",
   "version": "3.7.4"
  }
 },
 "nbformat": 4,
 "nbformat_minor": 2
}
