{
 "cells": [
  {
   "cell_type": "markdown",
   "metadata": {},
   "source": [
    "Let’s assume you have phone book data in a list of dicts, as follows:\n",
    "\n",
    "\n",
    "PEOPLE = [{'first':'Reuven', 'last':'Lerner',\n",
    "'email':'reuven@lerner.co.il'},\n",
    " {'first':'Donald', 'last':'Trump',\n",
    "'email':'president@whitehouse.gov'},\n",
    "{'first':'Vladimir', 'last':'Putin',\n",
    "'email':'president@kremvax.ru'}\n",
    "]\n",
    "\n",
    "\n",
    "Regardless, write a function, alphabetize_names, that assumes the existence of a PEOPLE constant defined as shown in the code.\n",
    "The function should return the list of dicts, but sorted by last name and then by first name."
   ]
  },
  {
   "cell_type": "code",
   "execution_count": null,
   "metadata": {},
   "outputs": [],
   "source": [
    "from operator import itemgetter\n",
    "# constant \n",
    "PEOPLE = [{'first':'Reuven', 'last':'Lerner',\n",
    "'email':'reuven@lerner.co.il'},\n",
    " {'first':'Donald', 'last':'Trump',\n",
    "'email':'president@whitehouse.gov'},\n",
    "{'first':'Vladimir', 'last':'Putin',\n",
    "'email':'president@kremvax.ru'}\n",
    "]\n",
    "\n",
    "# Function to sort list of dicts by keys\n",
    "# @param keys\n",
    "# @return sorted list by keys\n",
    "def alphabetize_names(list_dict, *args):\n",
    "    return sorted(list_dict, key=itemgetter(*args))\n",
    "\n",
    "\n",
    "# main\n",
    "# call function to sort by keys\n",
    "mylist = alphabetize_names(PEOPLE, 'last','first')\n",
    "# print elements\n",
    "for p in mylist:\n",
    "    print(f'{p[\"last\"]}, {p[\"first\"]}: {p[\"email\"]}')"
   ]
  }
 ],
 "metadata": {
  "kernelspec": {
   "display_name": "Python 3",
   "language": "python",
   "name": "python3"
  },
  "language_info": {
   "codemirror_mode": {
    "name": "ipython",
    "version": 3
   },
   "file_extension": ".py",
   "mimetype": "text/x-python",
   "name": "python",
   "nbconvert_exporter": "python",
   "pygments_lexer": "ipython3",
   "version": "3.7.4"
  }
 },
 "nbformat": 4,
 "nbformat_minor": 2
}
