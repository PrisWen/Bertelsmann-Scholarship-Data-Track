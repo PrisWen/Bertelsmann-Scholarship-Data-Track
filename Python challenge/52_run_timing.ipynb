{
 "cells": [
  {
   "cell_type": "markdown",
   "metadata": {},
   "source": [
    "    For this exercise, then, we’ll assume that you run 10 km each day as part of your exercise regime.\n",
    "    You want to know how long, on average, that run takes.\n",
    "    Write a function (run_timing) that asks how long it took for you to run 10 km.\n",
    "    The function continues to ask how long (in minutes) it took for additional runs, until the user presses Enter.\n",
    "    At that point, the function exits—but only after calculating and displaying the average time that the 10 km runs took."
   ]
  },
  {
   "cell_type": "code",
   "execution_count": 19,
   "metadata": {},
   "outputs": [],
   "source": [
    "# Function to calculate the average time that the 10 km runs took\n",
    "def run_timing():\n",
    "    total = 0\n",
    "    number_run = 0\n",
    "    try:\n",
    "        while True:\n",
    "            my_run = input('Enter your run time of 10 Km: ')\n",
    "            if my_run is '':\n",
    "                break\n",
    "            else:\n",
    "                total += float(my_run)\n",
    "                number_run += 1\n",
    "        print('Average time that 10 km runs is {} over {} runs'.format(format(total/number_run, '.2f'), number_run))\n",
    "    except ValueError:\n",
    "        print('Invalid number')\n",
    "\n",
    "        \n",
    "# main\n",
    "run_timing()"
   ]
  }
 ],
 "metadata": {
  "kernelspec": {
   "display_name": "Python 3",
   "language": "python",
   "name": "python3"
  },
  "language_info": {
   "codemirror_mode": {
    "name": "ipython",
    "version": 3
   },
   "file_extension": ".py",
   "mimetype": "text/x-python",
   "name": "python",
   "nbconvert_exporter": "python",
   "pygments_lexer": "ipython3",
   "version": "3.7.4"
  }
 },
 "nbformat": 4,
 "nbformat_minor": 2
}
