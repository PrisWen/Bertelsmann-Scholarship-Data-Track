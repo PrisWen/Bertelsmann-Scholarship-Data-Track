{
 "cells": [
  {
   "cell_type": "markdown",
   "metadata": {},
   "source": [
    "The challenge for this exercise is to write a wordcount function that mimics the wc Unix command. The function will take a filename as input and will print four lines of output:\n",
    "\n",
    "    1 Number of characters (including whitespace)\n",
    "    2 Number of words (separated by whitespace)\n",
    "    3 Number of lines\n",
    "    4 Number of unique words (case sensitive, so “NO” is differentfrom “no”)"
   ]
  },
  {
   "cell_type": "code",
   "execution_count": null,
   "metadata": {},
   "outputs": [],
   "source": [
    "# Function to count lines, characters, words and unique words of a text file\n",
    "# @param filename\n",
    "def word_count(filename):\n",
    "    # Open the file\n",
    "    with open(filename) as my_file:\n",
    "        # Initialize a dictionary \n",
    "        counts = {'lines': 0, 'characters':0, 'words':0, 'unique_words':0}\n",
    "        unique_words = set()\n",
    "        \n",
    "        # Store each line of the file into line variable\n",
    "        for line in my_file:\n",
    "            counts['lines'] += 1\n",
    "            counts['characters'] += len(line) \n",
    "            new_line = line.split()\n",
    "            counts['words'] += len(new_line)\n",
    "            unique_words.update(new_line)\n",
    "            \n",
    "        counts['unique_words'] = len(unique_words)\n",
    "        for key, value in counts.items():\n",
    "            print(f'{key}: {value}')\n",
    "\n",
    "\n",
    "# main\n",
    "word_count('wcfile.txt')"
   ]
  }
 ],
 "metadata": {
  "kernelspec": {
   "display_name": "Python 3",
   "language": "python",
   "name": "python3"
  },
  "language_info": {
   "codemirror_mode": {
    "name": "ipython",
    "version": 3
   },
   "file_extension": ".py",
   "mimetype": "text/x-python",
   "name": "python",
   "nbconvert_exporter": "python",
   "pygments_lexer": "ipython3",
   "version": "3.7.4"
  }
 },
 "nbformat": 4,
 "nbformat_minor": 2
}
