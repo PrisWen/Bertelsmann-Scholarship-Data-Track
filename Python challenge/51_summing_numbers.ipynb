{
 "cells": [
  {
   "cell_type": "markdown",
   "metadata": {},
   "source": [
    "The challenge here is to write a mysum function that does the same thing as the built-in sum function.\n",
    "However, instead of taking a single sequence as a parameter, it should take a variable number of arguments. \n",
    "Thus, although you might invoke sum([1,2,3]), you’d instead invoke mysum(1,2,3) or mysum(10,20,30,40,50)."
   ]
  },
  {
   "cell_type": "code",
   "execution_count": null,
   "metadata": {},
   "outputs": [],
   "source": [
    "# Function to sum a variable number of arguments\n",
    "def mysum(*args):\n",
    "    total = 0\n",
    "    for ele in args:\n",
    "        total += ele\n",
    "    return total\n",
    "\n",
    "\n",
    "# main\n",
    "# tuple\n",
    "print(mysum(10,20,30,40,50))\n",
    "# list\n",
    "print(mysum(*[1,2,3]))"
   ]
  }
 ],
 "metadata": {
  "kernelspec": {
   "display_name": "Python 3",
   "language": "python",
   "name": "python3"
  },
  "language_info": {
   "codemirror_mode": {
    "name": "ipython",
    "version": 3
   },
   "file_extension": ".py",
   "mimetype": "text/x-python",
   "name": "python",
   "nbconvert_exporter": "python",
   "pygments_lexer": "ipython3",
   "version": "3.7.4"
  }
 },
 "nbformat": 4,
 "nbformat_minor": 2
}
