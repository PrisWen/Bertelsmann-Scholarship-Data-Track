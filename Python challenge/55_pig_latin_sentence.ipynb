{
 "cells": [
  {
   "cell_type": "markdown",
   "metadata": {},
   "source": [
    "Now that you’ve successfully written a translator for a single English word, let’s make things more difficult: translate a series of English words into Pig Latin. Write a function called pl_sentence that takes a string containing several words, separated by spaces. (To make things easier, we won’t actually ask for a real sentence. More specifically, there will be no capital letters or punctuation.) "
   ]
  },
  {
   "cell_type": "code",
   "execution_count": null,
   "metadata": {},
   "outputs": [],
   "source": [
    "# Function to return the translation of a word into Pig Latin\n",
    "# @param word is a english word\n",
    "# @return word traslated to Pig Latin\n",
    "def pig_latin(word):\n",
    "    if len(word) > 0:\n",
    "        return word + 'way' if word[0] in ('aeiou') else word[1:] + word[0] + 'ay'\n",
    "    else:\n",
    "        return ''\n",
    "\n",
    "    \n",
    "# Function to return the translation of a sentence into Pig Latin\n",
    "# @param sentence is a english sentence\n",
    "# @return sentence traslated to Pig Latin    \n",
    "def pl_sentence(sentence):\n",
    "    new_words = []\n",
    "    for word in sentence.split():\n",
    "        new_words.append(pig_latin(word))\n",
    "    return ' '.join(new_words)    \n",
    "\n",
    "\n",
    "# main\n",
    "print(pl_sentence('this is a test translation'))"
   ]
  }
 ],
 "metadata": {
  "kernelspec": {
   "display_name": "Python 3",
   "language": "python",
   "name": "python3"
  },
  "language_info": {
   "codemirror_mode": {
    "name": "ipython",
    "version": 3
   },
   "file_extension": ".py",
   "mimetype": "text/x-python",
   "name": "python",
   "nbconvert_exporter": "python",
   "pygments_lexer": "ipython3",
   "version": "3.7.4"
  }
 },
 "nbformat": 4,
 "nbformat_minor": 2
}
