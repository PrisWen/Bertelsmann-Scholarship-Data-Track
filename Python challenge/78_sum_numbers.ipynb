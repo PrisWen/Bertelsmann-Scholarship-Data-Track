{
 "cells": [
  {
   "cell_type": "markdown",
   "metadata": {},
   "source": [
    "Our function (sum_numbers) will take a string as an argument; for example 10 abc 20 de44 30 55fg 40 Given that input,our function should return 100."
   ]
  },
  {
   "cell_type": "code",
   "execution_count": 4,
   "metadata": {},
   "outputs": [
    {
     "name": "stdout",
     "output_type": "stream",
     "text": [
      "100\n"
     ]
    }
   ],
   "source": [
    "# function to take a sequence of strings and turn them into numbers, and then sum them.\n",
    "def sum_numbers(data_entry):\n",
    "    data = data_entry.split()\n",
    "    return sum([int(d) for d in data if d.isdigit()])\n",
    "    \n",
    "        \n",
    "# main\n",
    "entry = '10 abc 20 de44 30 55fg 40'\n",
    "print(sum_numbers(entry))"
   ]
  }
 ],
 "metadata": {
  "kernelspec": {
   "display_name": "Python 3",
   "language": "python",
   "name": "python3"
  },
  "language_info": {
   "codemirror_mode": {
    "name": "ipython",
    "version": 3
   },
   "file_extension": ".py",
   "mimetype": "text/x-python",
   "name": "python",
   "nbconvert_exporter": "python",
   "pygments_lexer": "ipython3",
   "version": "3.7.4"
  }
 },
 "nbformat": 4,
 "nbformat_minor": 2
}
