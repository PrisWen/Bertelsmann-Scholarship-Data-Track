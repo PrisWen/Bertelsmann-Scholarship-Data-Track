{
 "cells": [
  {
   "cell_type": "markdown",
   "metadata": {},
   "source": [
    "For this exercise, write a function (join_numbers) that takes a range of integers.\n",
    "The function should return those numbers as a string, with commas between the numbers. That is, given range(15) as input, the function should return this string:\n",
    "    \n",
    "    0,1,2,3,4,5,6,7,8,9,10,11,12,13,14"
   ]
  },
  {
   "cell_type": "code",
   "execution_count": null,
   "metadata": {},
   "outputs": [],
   "source": [
    "# Function to take a range of integers and return as a string with commas between numbers\n",
    "def join_numbers(range_int):\n",
    "    return ','.join(str(num) for num in range_int)\n",
    "\n",
    "\n",
    "# main\n",
    "print(join_numbers(range(15)))"
   ]
  }
 ],
 "metadata": {
  "kernelspec": {
   "display_name": "Python 3",
   "language": "python",
   "name": "python3"
  },
  "language_info": {
   "codemirror_mode": {
    "name": "ipython",
    "version": 3
   },
   "file_extension": ".py",
   "mimetype": "text/x-python",
   "name": "python",
   "nbconvert_exporter": "python",
   "pygments_lexer": "ipython3",
   "version": "3.7.4"
  }
 },
 "nbformat": 4,
 "nbformat_minor": 2
}
