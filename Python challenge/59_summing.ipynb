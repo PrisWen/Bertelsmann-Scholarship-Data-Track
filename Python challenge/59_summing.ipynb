{
 "cells": [
  {
   "cell_type": "markdown",
   "metadata": {},
   "source": [
    "This challenge asks you to redefine the mysum function we defined previously, such that it can take any number of arguments.\n",
    "\n",
    "The arguments must all be of the same type and know how to respond to the + operator. (Thus, the function should work with numbers, strings, lists, and tuples, but not with sets and dicts.)"
   ]
  },
  {
   "cell_type": "code",
   "execution_count": null,
   "metadata": {},
   "outputs": [],
   "source": [
    "# Function to summing \n",
    "# @param str, int, float or list\n",
    "# @return sum, it depends on the type of data\n",
    "def mysum(*items):\n",
    "    if not items:\n",
    "        return items \n",
    "    output = items[0]\n",
    "    for item in items[1:]:\n",
    "        output += item\n",
    "    return output\n",
    "\n",
    "\n",
    "# main\n",
    "print(mysum([1,2,3], [4,5,6]))"
   ]
  }
 ],
 "metadata": {
  "kernelspec": {
   "display_name": "Python 3",
   "language": "python",
   "name": "python3"
  },
  "language_info": {
   "codemirror_mode": {
    "name": "ipython",
    "version": 3
   },
   "file_extension": ".py",
   "mimetype": "text/x-python",
   "name": "python",
   "nbconvert_exporter": "python",
   "pygments_lexer": "ipython3",
   "version": "3.7.4"
  }
 },
 "nbformat": 4,
 "nbformat_minor": 2
}
