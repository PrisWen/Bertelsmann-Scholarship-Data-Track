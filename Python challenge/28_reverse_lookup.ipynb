{
 "cells": [
  {
   "cell_type": "markdown",
   "metadata": {},
   "source": [
    "Write a function named reverseLookup that finds all of the keys in a dictionary that map to a specific value. The function will take the dictionary and the value to search for as its only parameters. It will return a (possibly empty) list of keys from the dictionary that map to the provided value.\n",
    "Include a main program that demonstrates the reverseLookup function as part of your solution to this exercise. Your program should create a dictionary and then show that the reverseLookup function works correctly when it returns multiple keys, a single key, and no keys. Ensure that your main program only runs when the file containing your solution to this exercise has not been imported into another program."
   ]
  },
  {
   "cell_type": "code",
   "execution_count": 28,
   "metadata": {},
   "outputs": [],
   "source": [
    "# Return a list of keys in a dictionary that map to a specific value\n",
    "# @param dictionary the dictionary where the value will be searched\n",
    "# @param search_value the value to search\n",
    "# @return a list of keys from the dictionary that map to the provided value\n",
    "def reverseLookup(dictionary, search_value):\n",
    "    # List Comprehension with condition\n",
    "    list_keys = [key for key, value in dictionary.items() if value == search_value]\n",
    "    return list_keys"
   ]
  },
  {
   "cell_type": "code",
   "execution_count": 29,
   "metadata": {},
   "outputs": [
    {
     "name": "stdout",
     "output_type": "stream",
     "text": [
      "['Priscila', 'Susy']\n",
      "['Edgar']\n",
      "[]\n"
     ]
    }
   ],
   "source": [
    "#main\n",
    "\n",
    "dictionary = {'Priscila':'Bolivia','Jose':'Peru', 'Susy':'Bolivia', 'Edgar':'Ecuador'}\n",
    "\n",
    "print(reverseLookup(dictionary, 'Bolivia'))\n",
    "print(reverseLookup(dictionary, 'Ecuador'))\n",
    "print(reverseLookup(dictionary, 'Chile'))\n"
   ]
  }
 ],
 "metadata": {
  "kernelspec": {
   "display_name": "Python 3",
   "language": "python",
   "name": "python3"
  },
  "language_info": {
   "codemirror_mode": {
    "name": "ipython",
    "version": 3
   },
   "file_extension": ".py",
   "mimetype": "text/x-python",
   "name": "python",
   "nbconvert_exporter": "python",
   "pygments_lexer": "ipython3",
   "version": "3.7.4"
  }
 },
 "nbformat": 4,
 "nbformat_minor": 2
}
