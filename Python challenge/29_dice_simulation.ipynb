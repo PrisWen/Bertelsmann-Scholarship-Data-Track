{
 "cells": [
  {
   "cell_type": "markdown",
   "metadata": {},
   "source": [
    "In this exercise you will simulate 1,000 rolls of two dice. Begin by writing a function that simulates rolling a pair of six-sided dice. Your function will not take any parameters. It will return the total that was rolled on two dice as its only result.\n",
    "Write a main program that uses your function to simulate rolling two six-sided dice 1,000 times. As your program runs, it should count the number of times that each total occurs. Then it should display a table that summarizes this data. Express the frequency for each total as a percentage of the total number of rolls. Your program should also display the percentage expected by probability theory for each total."
   ]
  },
  {
   "cell_type": "code",
   "execution_count": 120,
   "metadata": {},
   "outputs": [],
   "source": [
    "# Return total rolled on two dice\n",
    "def rolledTwoDice():\n",
    "    import random\n",
    "    dice_one = random.randint(1,6)\n",
    "    dice_two = random.randint(1,6)\n",
    "    total = dice_one + dice_two\n",
    "    return total"
   ]
  },
  {
   "cell_type": "code",
   "execution_count": null,
   "metadata": {},
   "outputs": [],
   "source": [
    "#main\n",
    "\n",
    "# Initializing total occurrences and expected percent \n",
    "total_occurs = {2:[0,2.78], 3:[0,5.56], 4:[0,8.33], 5:[0,11.11], 6:[0,13.89], \n",
    "                7:[0,16.67], 8:[0,13.89], 9:[0,11.11], 10:[0,8.33], 11:[0,5.56], 12:[0,2.78]}\n",
    "for i in range(1000):\n",
    "    total_occurs[rolledTwoDice()][0] += 1\n",
    "\n",
    "print(\"Total\\tSimulated\\tExpected\")\n",
    "print(\"\\tPercent\\t\\tPercent\")\n",
    "for k, v in total_occurs.items():\n",
    "    print(\"{}\\t{}\\t\\t{}\".format( k, format(v[0]/1000*100, '.2f'), v[1]))"
   ]
  },
  {
   "cell_type": "code",
   "execution_count": 121,
   "metadata": {},
   "outputs": [
    {
     "name": "stdout",
     "output_type": "stream",
     "text": [
      "Total\tSimulated\tExpected\n",
      "\tPercent\t\tPercent\n",
      "2\t2.90\t\t2.78\n",
      "3\t5.50\t\t5.56\n",
      "4\t8.80\t\t8.33\n",
      "5\t10.40\t\t11.11\n",
      "6\t13.20\t\t13.89\n",
      "7\t19.10\t\t16.67\n",
      "8\t14.60\t\t13.89\n",
      "9\t9.70\t\t11.11\n",
      "10\t7.50\t\t8.33\n",
      "11\t5.90\t\t5.56\n",
      "12\t2.40\t\t2.78\n"
     ]
    }
   ],
   "source": []
  }
 ],
 "metadata": {
  "kernelspec": {
   "display_name": "Python 3",
   "language": "python",
   "name": "python3"
  },
  "language_info": {
   "codemirror_mode": {
    "name": "ipython",
    "version": 3
   },
   "file_extension": ".py",
   "mimetype": "text/x-python",
   "name": "python",
   "nbconvert_exporter": "python",
   "pygments_lexer": "ipython3",
   "version": "3.7.4"
  }
 },
 "nbformat": 4,
 "nbformat_minor": 2
}
