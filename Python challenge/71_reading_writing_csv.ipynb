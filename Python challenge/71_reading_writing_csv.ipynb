{
 "cells": [
  {
   "cell_type": "markdown",
   "metadata": {},
   "source": [
    "For this exercise, create a function, passwd_to_csv, that takes two filenames as arguments: the first is a passwd-style file to read from, and the second is the name of a file in which to write the output.\n",
    "The new file’s contents are the username (index 0) and the user ID (index 2).\n",
    "Note that a record may contain a comment, in which case it will not have anything at index 2; you should take\n",
    "that into consideration when writing the file.\n",
    "The output file should use TAB characters to separate the elements."
   ]
  },
  {
   "cell_type": "code",
   "execution_count": 27,
   "metadata": {},
   "outputs": [],
   "source": [
    "# Function to read a file and write an output CSV with username and ID \n",
    "# @param first: passwd-style file to read\n",
    "# @param second: name of a file in which to write the output\n",
    "import csv\n",
    "def passwd_to_csv(first, second):\n",
    "    with open(first) as my_file:\n",
    "        r = csv.reader(my_file, delimiter=':')\n",
    "        with open(second, 'w') as f_output:\n",
    "            o = csv.writer(f_output, delimiter='\\t')\n",
    "            for row in r:\n",
    "                if len(row) > 1:\n",
    "                    o.writerow((row[0],row[2]))\n",
    "                \n",
    "        \n",
    "# main\n",
    "passwd_to_csv('passwd.txt','output.csv')"
   ]
  }
 ],
 "metadata": {
  "kernelspec": {
   "display_name": "Python 3",
   "language": "python",
   "name": "python3"
  },
  "language_info": {
   "codemirror_mode": {
    "name": "ipython",
    "version": 3
   },
   "file_extension": ".py",
   "mimetype": "text/x-python",
   "name": "python",
   "nbconvert_exporter": "python",
   "pygments_lexer": "ipython3",
   "version": "3.7.4"
  }
 },
 "nbformat": 4,
 "nbformat_minor": 2
}
