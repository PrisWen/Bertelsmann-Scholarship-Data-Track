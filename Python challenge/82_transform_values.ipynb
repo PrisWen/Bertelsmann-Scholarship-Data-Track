{
 "cells": [
  {
   "cell_type": "markdown",
   "metadata": {},
   "source": [
    "This exercise combines showing how you can receive a function as a function argument, and how comprehensions can help us to elegantly solve a wide variety of problems. It takes two arguments: (a) a function and (b) an iterable. It returns a new sequence, which is the result of applying the function to each element of the input iterable. "
   ]
  },
  {
   "cell_type": "code",
   "execution_count": null,
   "metadata": {},
   "outputs": [],
   "source": [
    "#Function to transform values with a function as an argument\n",
    "def transform_values(function, my_dict):\n",
    "    for k,v in my_dict.items():\n",
    "        my_dict[k]= function(v)\n",
    "    return my_dict\n",
    "\n",
    "\n",
    "# main\n",
    "d = {'a':1, 'b':2, 'c':3}\n",
    "print(transform_values(lambda x: x*x, d))\n"
   ]
  }
 ],
 "metadata": {
  "kernelspec": {
   "display_name": "Python 3",
   "language": "python",
   "name": "python3"
  },
  "language_info": {
   "codemirror_mode": {
    "name": "ipython",
    "version": 3
   },
   "file_extension": ".py",
   "mimetype": "text/x-python",
   "name": "python",
   "nbconvert_exporter": "python",
   "pygments_lexer": "ipython3",
   "version": "3.7.4"
  }
 },
 "nbformat": 4,
 "nbformat_minor": 2
}
