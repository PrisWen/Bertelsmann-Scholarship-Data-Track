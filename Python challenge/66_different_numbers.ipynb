{
 "cells": [
  {
   "cell_type": "markdown",
   "metadata": {},
   "source": [
    "Write a function, called how_many_different_numbers, that takes a single list of integers and returns the number of different integers it contains."
   ]
  },
  {
   "cell_type": "code",
   "execution_count": null,
   "metadata": {},
   "outputs": [],
   "source": [
    "# Function to return the number of different integers that a list contains\n",
    "# @param list of integers\n",
    "# @return number of different integers that a list contains\n",
    "def how_many_different_numbers(numbers):\n",
    "    unique_numbers = set(numbers)\n",
    "    return len(unique_numbers)\n",
    "    \n",
    "    \n",
    "# main\n",
    "numbers = [1,2,3,4,2,3,4]\n",
    "print(how_many_different_numbers(numbers))"
   ]
  }
 ],
 "metadata": {
  "kernelspec": {
   "display_name": "Python 3",
   "language": "python",
   "name": "python3"
  },
  "language_info": {
   "codemirror_mode": {
    "name": "ipython",
    "version": 3
   },
   "file_extension": ".py",
   "mimetype": "text/x-python",
   "name": "python",
   "nbconvert_exporter": "python",
   "pygments_lexer": "ipython3",
   "version": "3.7.4"
  }
 },
 "nbformat": 4,
 "nbformat_minor": 2
}
