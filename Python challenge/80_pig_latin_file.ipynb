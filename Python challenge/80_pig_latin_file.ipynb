{
 "cells": [
  {
   "cell_type": "markdown",
   "metadata": {},
   "source": [
    "In this exercise, I want you to write a function that takes a filename as an argument.It returns a string with the file’s contents, but with each word translated into Pig Latin, as per our plword function in chapter 2 on “strings.”The returned translation can ignore newlines and isn’t required to handle capitalization and punctuation in\n",
    "any specific way."
   ]
  },
  {
   "cell_type": "code",
   "execution_count": null,
   "metadata": {},
   "outputs": [],
   "source": [
    "# Function to return the translation of a word into Pig Latin\n",
    "# @param word is a english word\n",
    "# @return word traslated to Pig Latin\n",
    "def pig_latin(word):\n",
    "    if len(word) > 0:\n",
    "        return word + 'way' if word[0] in ('aeiou') else word[1:] + word[0] + 'ay'\n",
    "    else:\n",
    "        return ''\n",
    "\n",
    "# Function to return the translation of a file into Pig Latin\n",
    "# @param file name\n",
    "# @return translation of a file into Pig Latin\n",
    "def plfile(filename):\n",
    "    return ''.join(pig_latin(one_word)\n",
    "                  for one_line in open(filename)\n",
    "                  for one_word in one_line.split())\n",
    "    \n",
    "\n",
    "# main\n",
    "print(plfile(input('Enter a file name: ')))"
   ]
  }
 ],
 "metadata": {
  "kernelspec": {
   "display_name": "Python 3",
   "language": "python",
   "name": "python3"
  },
  "language_info": {
   "codemirror_mode": {
    "name": "ipython",
    "version": 3
   },
   "file_extension": ".py",
   "mimetype": "text/x-python",
   "name": "python",
   "nbconvert_exporter": "python",
   "pygments_lexer": "ipython3",
   "version": "3.7.4"
  }
 },
 "nbformat": 4,
 "nbformat_minor": 2
}
