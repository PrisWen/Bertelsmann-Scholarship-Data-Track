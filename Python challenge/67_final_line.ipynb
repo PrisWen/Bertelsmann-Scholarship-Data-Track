{
 "cells": [
  {
   "cell_type": "markdown",
   "metadata": {},
   "source": [
    "In this exercise, write a function (get_final_line) that takes a filename as an argument.The function should return that file’s final line on thescreen."
   ]
  },
  {
   "cell_type": "code",
   "execution_count": null,
   "metadata": {},
   "outputs": [],
   "source": [
    "# Function to return the final line of a file\n",
    "# @param filename\n",
    "# @return final line\n",
    "def get_final_line(filename):\n",
    "    for line in open(filename):\n",
    "        pass\n",
    "    return line\n",
    "    \n",
    "    \n",
    "# main\n",
    "name = input('Enter the filename: ')\n",
    "print(get_final_line(name))"
   ]
  }
 ],
 "metadata": {
  "kernelspec": {
   "display_name": "Python 3",
   "language": "python",
   "name": "python3"
  },
  "language_info": {
   "codemirror_mode": {
    "name": "ipython",
    "version": 3
   },
   "file_extension": ".py",
   "mimetype": "text/x-python",
   "name": "python",
   "nbconvert_exporter": "python",
   "pygments_lexer": "ipython3",
   "version": "3.7.4"
  }
 },
 "nbformat": 4,
 "nbformat_minor": 2
}
