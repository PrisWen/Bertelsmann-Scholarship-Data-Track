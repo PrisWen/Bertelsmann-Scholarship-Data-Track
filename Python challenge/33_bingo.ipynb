{
 "cells": [
  {
   "cell_type": "markdown",
   "metadata": {},
   "source": [
    "Create a Bingo Card \n",
    "\n",
    "A Bingo card consists of 5 columns of 5 numbers. The columns are labeled with the letters B, I, N, G and O. There are 15 numbers that can appear under each letter. In particular, the numbers that can appear under the B range from 1 to 15, the numbers that can appear under the I range from 16 to 30, the numbers that can appear under the N range from 31 to 45, and so on. Write a function that creates a random Bingo card and stores it in a dictionary. The keys will be the letters B, I, N, G and O. The values will be the lists of five numbers that appear under each letter. Write a second function that displays the Bingo card with the columns labeled appropriately. Use these functions to write a program that displays a random Bingo card. Ensure that the main program only runs when the file containing your solution has not been imported into another program. \n",
    "\n",
    "You may be aware that Bingo cards often have a \"free\" space in the middle of the card. We won't consider the free space in this exercise. \n"
   ]
  },
  {
   "cell_type": "code",
   "execution_count": 10,
   "metadata": {},
   "outputs": [],
   "source": [
    "def create_bingo():\n",
    "    import random\n",
    "    bingo_card = {}\n",
    "    index = 1\n",
    "    add = 15\n",
    "    lim = 15\n",
    "    for c in 'BINGO':\n",
    "        bingo_card[c] = random.sample([num for num in range(index, lim+1)], 5)\n",
    "        index, lim = lim+1, lim + add\n",
    "    return bingo_card"
   ]
  },
  {
   "cell_type": "code",
   "execution_count": 11,
   "metadata": {},
   "outputs": [],
   "source": [
    "def print_bingo(bingo_card):\n",
    "    bingo_card = bingo_card\n",
    "    for k, v in bingo_card.items():\n",
    "        print(k, end ='\\t')\n",
    "    print()\n",
    "    for k, v in bingo_card.items():\n",
    "        for sv in v:\n",
    "            print(sv, end='\\t')\n",
    "        print()"
   ]
  },
  {
   "cell_type": "code",
   "execution_count": null,
   "metadata": {},
   "outputs": [],
   "source": [
    "#main\n",
    "print_bingo(create_bingo())"
   ]
  }
 ],
 "metadata": {
  "kernelspec": {
   "display_name": "Python 3",
   "language": "python",
   "name": "python3"
  },
  "language_info": {
   "codemirror_mode": {
    "name": "ipython",
    "version": 3
   },
   "file_extension": ".py",
   "mimetype": "text/x-python",
   "name": "python",
   "nbconvert_exporter": "python",
   "pygments_lexer": "ipython3",
   "version": "3.7.4"
  }
 },
 "nbformat": 4,
 "nbformat_minor": 2
}
