{
 "cells": [
  {
   "cell_type": "markdown",
   "metadata": {},
   "source": [
    "The novel “Gadsby” is over 50,000 words in length. While 50,000 words is not normally remarkable for a novel, it is in this case because none of the words in the book use the letter E. This is particularly noteworthy when one considers that E is the most common letter in English. Write a program that reads a list of words from a file and determines what proportion of the words use each letter of the alphabet. Display this result for all 26 letters and include an additional message that identifies the letter that is used in the smallest proportion of the words. Your program should ignore any punctuation marks that are present in the file and it should treat uppercase and lowercase letters as equivalent...A lipogram is a written work that does not use a particular letter (or group of letters). The letter that is avoided is often a common vowel, though it does not have to be. For example, The Raven by Edgar Allan Poe is a poem of more than 1,000 words that does not use the letter Z, and as such, is a lipogram. “La Disparition” is another example of a lipogrammatic novel. Both the original novel (written in French), and its English translation, “A Void”, occupy approximately 300 pages without using the letter E, other than in the author’s name."
   ]
  },
  {
   "cell_type": "code",
   "execution_count": null,
   "metadata": {},
   "outputs": [],
   "source": [
    "name_file = 'gatsby.txt'\n",
    "\n",
    "#read file\n",
    "lines = open(name_file).read().splitlines()\n",
    "\n",
    "# filtering only letters\n",
    "total = ''\n",
    "for line in lines:\n",
    "    total += ''.join(x for x in line.lower() if x.isalpha())\n",
    "\n",
    "# dictionary of letters\n",
    "letters = {'a':0,'b':0,'c':0,'d':0,'e':0,'f':0,'g':0,'h':0,'i':0,'j':0,'k':0,'l':0,'m':0,\n",
    "           'n':0,'o':0,'p':0,'q':0,'r':0,'s':0,'t':0,'u':0,'v':0,'w':0,'x':0,'y':0,'z':0}\n",
    "\n",
    "# counting each letter\n",
    "for c in total:\n",
    "    letters[c] += 1\n",
    "\n",
    "# showing results by letter\n",
    "total_len = len(total)\n",
    "print(\"Letter\\tAmount\\tPercentage\")\n",
    "for k,v in letters.items():\n",
    "    print('{}\\t{}\\t{}%'.format( k, v, format(v/total_len*100, '.3f')))\n",
    "print(\"The letter that is used in the smallest proportion is '{}'\".format( min(letters, key=letters.get)))"
   ]
  }
 ],
 "metadata": {
  "kernelspec": {
   "display_name": "Python 3",
   "language": "python",
   "name": "python3"
  },
  "language_info": {
   "codemirror_mode": {
    "name": "ipython",
    "version": 3
   },
   "file_extension": ".py",
   "mimetype": "text/x-python",
   "name": "python",
   "nbconvert_exporter": "python",
   "pygments_lexer": "ipython3",
   "version": "3.7.4"
  }
 },
 "nbformat": 4,
 "nbformat_minor": 2
}
