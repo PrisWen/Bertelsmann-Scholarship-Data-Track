{
 "cells": [
  {
   "cell_type": "markdown",
   "metadata": {},
   "source": [
    "In many cases, we want to take a file in one format and save it to another format. In this function, we do a basic version of this idea. The function takes two arguments: the names of the input file (to be read from) and the output file (which will be created).\n",
    "\n",
    "For example, if a file looks like\n",
    "\n",
    "    abc def\n",
    "    ghi jkl\n",
    "then the output file will be\n",
    "\n",
    "    fed cba\n",
    "    lkj ihg\n",
    "Notice that the newline remains at the end of the string, while the rest of the characters are all reversed. "
   ]
  },
  {
   "cell_type": "code",
   "execution_count": 3,
   "metadata": {},
   "outputs": [],
   "source": [
    "# Function to reverse lines of a file\n",
    "# @param input_file: name of input file\n",
    "# @param output_file: name of a file in which to write the output\n",
    "def reverse_lines(input_file, output_file):\n",
    "    with open(input_file) as f_input, open(output_file, 'w') as f_output:\n",
    "        for line in f_input:\n",
    "            f_output.write(line.rstrip()[::-1]+'\\n')\n",
    "            \n",
    "            \n",
    "# main\n",
    "reverse_lines('wcfile.txt','rev.txt')"
   ]
  }
 ],
 "metadata": {
  "kernelspec": {
   "display_name": "Python 3",
   "language": "python",
   "name": "python3"
  },
  "language_info": {
   "codemirror_mode": {
    "name": "ipython",
    "version": 3
   },
   "file_extension": ".py",
   "mimetype": "text/x-python",
   "name": "python",
   "nbconvert_exporter": "python",
   "pygments_lexer": "ipython3",
   "version": "3.7.4"
  }
 },
 "nbformat": 4,
 "nbformat_minor": 2
}
