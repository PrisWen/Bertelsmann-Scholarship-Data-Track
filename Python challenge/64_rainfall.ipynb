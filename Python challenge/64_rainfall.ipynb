{
 "cells": [
  {
   "attachments": {},
   "cell_type": "markdown",
   "metadata": {},
   "source": [
    "Write a function, get_rainfall, that tracks rainfall in a number of cities.\n",
    "Users of your program will enter the name of a city, if the city name isn’t blank, then the program should also ask the user how much rain has fallen in that city (typically measured in millimeters).\n",
    "After the user enters the quantity of rain, the program again asks them for a city name, rainfall amount, and so\n",
    "on—until the user presses Enter instead of typing the name of a city.\n",
    "When the user enters a blank city name, the program exits—but first, it reports how much total rainfall there was in each city."
   ]
  },
  {
   "cell_type": "code",
   "execution_count": null,
   "metadata": {},
   "outputs": [],
   "source": [
    "def get_rainfall():\n",
    "    rainfall = {}\n",
    "    while True:\n",
    "        city_name = input('Enter name city: ').strip()\n",
    "        if not city_name:\n",
    "            break\n",
    "        amount_rain = int(input('Enter amount mm rain: '))\n",
    "        rainfall[city_name] = rainfall.get(city_name,0) + amount_rain\n",
    "    for k,v in rainfall.items():\n",
    "        print(f'{k}: {v}')\n",
    "\n",
    "\n",
    "# main\n",
    "get_rainfall()"
   ]
  }
 ],
 "metadata": {
  "kernelspec": {
   "display_name": "Python 3",
   "language": "python",
   "name": "python3"
  },
  "language_info": {
   "codemirror_mode": {
    "name": "ipython",
    "version": 3
   },
   "file_extension": ".py",
   "mimetype": "text/x-python",
   "name": "python",
   "nbconvert_exporter": "python",
   "pygments_lexer": "ipython3",
   "version": "3.7.4"
  }
 },
 "nbformat": 4,
 "nbformat_minor": 2
}
