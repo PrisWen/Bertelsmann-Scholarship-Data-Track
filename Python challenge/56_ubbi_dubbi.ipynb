{
 "cells": [
  {
   "cell_type": "markdown",
   "metadata": {},
   "source": [
    "For this exercise, you’ll write a function (called ubbi_dubbi) that takes a single word (string) as an argument. \n",
    "It returns a string, the word’s translation into Ubbi Dubbi. So if the function is called with octopus, the function will return the string uboctubopubus.And if the user passes the argument elephant, you’ll output ubelubephubant. As with the original Pig Latin translator, you can ignore capital letters, punctuation, and corner cases, such as multiple vowels combining to create a new sound. When you do have two vowels next to one another, preface each of them with ub."
   ]
  },
  {
   "cell_type": "code",
   "execution_count": null,
   "metadata": {},
   "outputs": [],
   "source": [
    "# Function to return the translation of a word into Ubbi Dubbi\n",
    "# @param word is a english word\n",
    "# @return word traslated to Ubbi Dubbi\n",
    "def ubbi_dubbi(word):\n",
    "    new_word = ''\n",
    "    for char in word:\n",
    "        new_word += f'ub{char}' if char in 'aeiou' else char\n",
    "    return new_word\n",
    "\n",
    "\n",
    "# main\n",
    "print(ubbi_dubbi(input('Enter a word: ')))"
   ]
  }
 ],
 "metadata": {
  "kernelspec": {
   "display_name": "Python 3",
   "language": "python",
   "name": "python3"
  },
  "language_info": {
   "codemirror_mode": {
    "name": "ipython",
    "version": 3
   },
   "file_extension": ".py",
   "mimetype": "text/x-python",
   "name": "python",
   "nbconvert_exporter": "python",
   "pygments_lexer": "ipython3",
   "version": "3.7.4"
  }
 },
 "nbformat": 4,
 "nbformat_minor": 2
}
