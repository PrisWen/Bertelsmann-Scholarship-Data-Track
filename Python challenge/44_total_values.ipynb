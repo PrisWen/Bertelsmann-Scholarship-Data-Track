{
 "cells": [
  {
   "cell_type": "markdown",
   "metadata": {},
   "source": [
    "Write a program that reads values from the user until a blank line is entered. Display the total of all of the values entered by the user (or 0.0 if the first value entered is a blank line). Complete this task using recursion. Your program may not use any loops."
   ]
  },
  {
   "cell_type": "code",
   "execution_count": 14,
   "metadata": {},
   "outputs": [],
   "source": [
    "# Read values, if a blank line is entered return 0.0 \n",
    "# otherwise call the same function in order to return the total all of the values entered\n",
    "def total_value():\n",
    "    # read value\n",
    "    val = input('Enter a value: ')\n",
    "    if val == '':\n",
    "        return 0.0\n",
    "    else:\n",
    "        return float(val) + float(total_value())\n",
    "#main\n",
    "print(total_value())"
   ]
  }
 ],
 "metadata": {
  "kernelspec": {
   "display_name": "Python 3",
   "language": "python",
   "name": "python3"
  },
  "language_info": {
   "codemirror_mode": {
    "name": "ipython",
    "version": 3
   },
   "file_extension": ".py",
   "mimetype": "text/x-python",
   "name": "python",
   "nbconvert_exporter": "python",
   "pygments_lexer": "ipython3",
   "version": "3.7.4"
  }
 },
 "nbformat": 4,
 "nbformat_minor": 2
}
