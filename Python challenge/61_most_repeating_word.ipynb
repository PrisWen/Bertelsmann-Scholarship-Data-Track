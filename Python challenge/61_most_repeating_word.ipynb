{
 "cells": [
  {
   "cell_type": "markdown",
   "metadata": {},
   "source": [
    "Write a function, most_repeating_word , that takes a sequence of strings as input.\n",
    "The function should return the string that contains the greatest number of repeated letters.\n",
    "\n",
    "In other words:\n",
    "\n",
    "For each word, find the letter that appears the most times.\n",
    "\n",
    "Find the word whose most-repeated letter appears more than any other."
   ]
  },
  {
   "cell_type": "code",
   "execution_count": null,
   "metadata": {},
   "outputs": [],
   "source": [
    "from collections import Counter\n",
    "\n",
    "# Function to return the count of the most common letter of a word\n",
    "# @param word\n",
    "# @return the count of the most common letter\n",
    "def most_repeating_letter(word):\n",
    "    return Counter(word).most_common(1)[0][1]\n",
    "\n",
    "# Function to return the string that contains the greatest number of repeated letters\n",
    "# @param words, list of words\n",
    "# @return the string that contains the greatest number of repeated letters\n",
    "def most_repeating_word(words):\n",
    "    return max(words, key=most_repeating_letter)\n",
    "\n",
    "\n",
    "# main\n",
    "words = ['this', 'is', 'an', 'elementary', 'test', 'example']\n",
    "print(most_repeating_word(words))"
   ]
  }
 ],
 "metadata": {
  "kernelspec": {
   "display_name": "Python 3",
   "language": "python",
   "name": "python3"
  },
  "language_info": {
   "codemirror_mode": {
    "name": "ipython",
    "version": 3
   },
   "file_extension": ".py",
   "mimetype": "text/x-python",
   "name": "python",
   "nbconvert_exporter": "python",
   "pygments_lexer": "ipython3",
   "version": "3.7.4"
  }
 },
 "nbformat": 4,
 "nbformat_minor": 2
}
