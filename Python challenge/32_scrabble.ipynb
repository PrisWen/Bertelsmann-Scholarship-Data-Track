{
 "cells": [
  {
   "cell_type": "markdown",
   "metadata": {},
   "source": [
    "Scrabble Score \n",
    "In the game of Scrabble, each letter has points associated with it. The total score of a word is the sum of the scores of its letters. More common letters are worth fewer points while less common letters are worth more points. The points associated with each letter are shown below: \n",
    "\n",
    "One point A,E,I,L,N,O,R,S,T and U \n",
    "\n",
    "Two points D and G \n",
    "\n",
    "Three points B,C,M and P \n",
    "\n",
    "Four points F, H, V, W and Y \n",
    "\n",
    "Five points K\n",
    "\n",
    "Eight points J and X \n",
    "\n",
    "Ten points Q and Z \n",
    "\n",
    "Write a program that computes and displays the Scrabble score for a word. Create a dictionary that maps from letters to point values. Then use the dictionary to compute the score. \n",
    "A Scrabble board includes some squares that multiply the value of a letter or the value of an entire word. We will ignore these squares in this exercise. \n"
   ]
  },
  {
   "cell_type": "code",
   "execution_count": 82,
   "metadata": {},
   "outputs": [],
   "source": [
    "# Return a list of keys in a dictionary that map to a specific value\n",
    "# @param dictionary the dictionary where the value will be searched\n",
    "# @param search_value the value to search\n",
    "# @return a list of keys from the dictionary that map to the provided value\n",
    "def reverseLookup(dictionary, search_value):\n",
    "    # List Comprehension with condition\n",
    "    list_keys = [key for key, value in dictionary.items() if search_value in value]\n",
    "    return list_keys"
   ]
  },
  {
   "cell_type": "code",
   "execution_count": null,
   "metadata": {},
   "outputs": [],
   "source": [
    "# main\n",
    "dictionary = {1:['A','E','I','L','N','O','R','S','T','U'],  2: ['D', 'G'], 3: ['B', 'C', 'M', 'P'], 4: ['F', 'H', 'V', 'W', 'Y'], 5: ['K'], 8: ['J', 'X'], 10: ['Q', 'Z']}\n",
    "word = input('Enter a word ').upper()\n",
    "\n",
    "points = 0\n",
    "for char in word:\n",
    "    key = reverseLookup(dictionary,char)\n",
    "    points += key[0] if key else 0\n",
    "print('Scrabble score for {} is {}'.format(word, points))"
   ]
  }
 ],
 "metadata": {
  "kernelspec": {
   "display_name": "Python 3",
   "language": "python",
   "name": "python3"
  },
  "language_info": {
   "codemirror_mode": {
    "name": "ipython",
    "version": 3
   },
   "file_extension": ".py",
   "mimetype": "text/x-python",
   "name": "python",
   "nbconvert_exporter": "python",
   "pygments_lexer": "ipython3",
   "version": "3.7.4"
  }
 },
 "nbformat": 4,
 "nbformat_minor": 2
}
