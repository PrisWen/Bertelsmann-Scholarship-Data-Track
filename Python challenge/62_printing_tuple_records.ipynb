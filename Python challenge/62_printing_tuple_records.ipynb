{
 "cells": [
  {
   "cell_type": "markdown",
   "metadata": {},
   "source": [
    "A common use for tuples is as records, similar to a struct in some other languages.\n",
    "For example, assume we’re in charge of an international summit in London. We know how many hours it’ll take each of several worldleaders to arrive:\n",
    "\n",
    "PEOPLE = [('Joe', 'Biden', 7.85),('Vladimir', 'Putin', 3.626),('Jinping', 'Xi', 10.603)]\n",
    "\n",
    "The planner for this summit needs to have a list of the world leaders who are coming, along with the time it’ll take for them to arrive. However, this travel planner doesn’t need the degree of precision that the computer has provided; it’s enough for us to have two digits after the decimal point. \n",
    "For this exercise, write a Python function, format_sort_records, that takes the PEOPLE list and returns a formatted string that looks like the following:\n",
    "\n",
    "Biden      Joe         7.85\n",
    "\n",
    "Putin      Vladimir    3.63\n",
    "\n",
    "Xi         Jinping    10.60\n",
    "\n",
    "\n",
    "Notice that the last name is printed before the first name (taking into account that Chinese names are generally shown that way), followed by a decimal-aligned indication of how long it’ll take for each leader to arrive in London.\n",
    "Each name should be printed in a 10-character field, and the time should be printed in a 5-character field, with one space character of padding between each of the columns.\n",
    "Travel time should display only two digits after the decimal point, which means that even though the input for Xi Jinping’s flight is 10.603 hours, the value displayed should be 10.60."
   ]
  },
  {
   "cell_type": "code",
   "execution_count": null,
   "metadata": {},
   "outputs": [],
   "source": [
    "from operator import itemgetter\n",
    "\n",
    "PEOPLE = [\n",
    "    ('Vladimir', 'Putin', 3.626),\n",
    "    ('Joe', 'Biden', 7.85), \n",
    "    ('Jinping', 'Xi', 10.603)]\n",
    "\n",
    "#\n",
    "def format_sort_records(list_tuples):\n",
    "    sort_list = []\n",
    "    new_list = sorted(list_tuples, key=itemgetter(1,0))\n",
    "    for info in new_list:\n",
    "        sort_list.append('{1:10} {0:10} {2:5.2f}'.format(*info))\n",
    "    return sort_list\n",
    "\n",
    "\n",
    "print('\\n'.join(format_sort_records(PEOPLE)))"
   ]
  }
 ],
 "metadata": {
  "kernelspec": {
   "display_name": "Python 3",
   "language": "python",
   "name": "python3"
  },
  "language_info": {
   "codemirror_mode": {
    "name": "ipython",
    "version": 3
   },
   "file_extension": ".py",
   "mimetype": "text/x-python",
   "name": "python",
   "nbconvert_exporter": "python",
   "pygments_lexer": "ipython3",
   "version": "3.7.4"
  }
 },
 "nbformat": 4,
 "nbformat_minor": 2
}
