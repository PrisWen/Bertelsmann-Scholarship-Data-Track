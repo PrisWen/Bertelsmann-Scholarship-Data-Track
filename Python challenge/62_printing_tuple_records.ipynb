{
 "cells": [
  {
   "cell_type": "markdown",
   "metadata": {},
   "source": [
    "A common use for tuples is as records, similar to a struct in some other languages.\n",
    "\n",
    "For this exercise, write a Python function, format_sort_records, that takes the PEOPLE list:\n",
    "PEOPLE = [('Joe', 'Biden', 7.85),('Vladimir', 'Putin', 3.626),('Jinping', 'Xi', 10.603)]\n",
    "and returns a formatted string that looks like the following:\n",
    "\n",
    "    Biden      Joe         7.85\n",
    "    Putin      Vladimir    3.63\n",
    "    Xi         Jinping    10.60\n",
    "\n",
    "\n",
    "Notice that the last name is printed before the first name (taking into account that Chinese names are generally shown that way), followed by a decimal-aligned indication of how long it’ll take for each leader to arrive in London.\n",
    "Each name should be printed in a 10-character field, and the time should be printed in a 5-character field, with one space character of padding between each of the columns.\n",
    "Travel time should display only two digits after the decimal point, which means that even though the input for Xi Jinping’s flight is 10.603 hours, the value displayed should be 10.60."
   ]
  },
  {
   "cell_type": "code",
   "execution_count": null,
   "metadata": {},
   "outputs": [],
   "source": [
    "from operator import itemgetter\n",
    "\n",
    "PEOPLE = [\n",
    "    ('Vladimir', 'Putin', 3.626),\n",
    "    ('Joe', 'Biden', 7.85), \n",
    "    ('Jinping', 'Xi', 10.603)]\n",
    "\n",
    "# Function to return a sorted list by arguments \n",
    "# @param keys\n",
    "# @return sorted list by arguments \n",
    "def format_sort_records(list_tuples, *args):\n",
    "    sort_list = []\n",
    "    new_list = sorted(list_tuples, key=itemgetter(*args))\n",
    "    for info in new_list:\n",
    "        sort_list.append('{1:10} {0:10} {2:5.2f}'.format(*info))\n",
    "    return sort_list\n",
    "\n",
    "\n",
    "# sort by last and first name\n",
    "print('\\n'.join(format_sort_records(PEOPLE,1,0)))"
   ]
  }
 ],
 "metadata": {
  "kernelspec": {
   "display_name": "Python 3",
   "language": "python",
   "name": "python3"
  },
  "language_info": {
   "codemirror_mode": {
    "name": "ipython",
    "version": 3
   },
   "file_extension": ".py",
   "mimetype": "text/x-python",
   "name": "python",
   "nbconvert_exporter": "python",
   "pygments_lexer": "ipython3",
   "version": "3.7.4"
  }
 },
 "nbformat": 4,
 "nbformat_minor": 2
}
