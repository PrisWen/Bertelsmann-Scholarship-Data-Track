{
 "cells": [
  {
   "cell_type": "markdown",
   "metadata": {},
   "source": [
    "Shuffling a Deck of Cards:\n",
    "A standard deck of playing cards contains 52 cards. \n",
    "The first character is the value of the card, with the values 2 through 9 being represented directly. The characters “T”, “J”, “Q”, “K” and “A” are used to represent the values 10, Jack, Queen, King and Ace respectively. The second character is used to represent the suit of the card. It is normally a lowercase letter: “s” for spades, “h” for hearts, “d” for diamonds and “c” for clubs. \n",
    "Begin by writing a function named createDeck. It will use loops to create a complete deck of cards by storing the two-character abbreviations for all 52 cards into a list. Return the list of cards as the function's only result. Your function will not take any parameters.\n",
    "Write a second function named shuffle that randomizes the order of the cards in a list.\n",
    "Use both of the functions described in the previous paragraphs to create a main program that displays a deck of cards before and after it has been shuffled. "
   ]
  },
  {
   "cell_type": "code",
   "execution_count": 99,
   "metadata": {},
   "outputs": [],
   "source": [
    "#Create the deck class composed of cards\n",
    "class Deck:\n",
    "    def __init__(self):\n",
    "        self.cards = []\n",
    "        self.value_card = []\n",
    "        self.suit_card =[]\n",
    "    \n",
    "    #Create a complete deck of cards by storing the two-character abbreviations for all 52 cards into a list   \n",
    "    def createDeck(self):\n",
    "        self.cards = []\n",
    "        self.value_card = ['1','2','3','4','5','6','7','8','9','T','A','J','Q','K']\n",
    "        self.suit_card = ['s','h','d','c']\n",
    "        for suit in self.suit_card:\n",
    "            for value in self.value_card:\n",
    "                self.cards.append(value+suit)\n",
    "\n",
    "    #Create a function that randomizes the order of the cards in a list\n",
    "    def shuffle(self):\n",
    "        import random \n",
    "        for i in range(len(self.cards)):\n",
    "            position = random.randint(0, len(self.cards)-1)\n",
    "            self.cards[i], self.cards[position] = self.cards[position], self.cards[i]\n",
    "            \n",
    "    #Create a function that print the deck\n",
    "    def printing(self):\n",
    "            for card in self.cards:\n",
    "                print(card, end=\" \")"
   ]
  },
  {
   "cell_type": "code",
   "execution_count": 101,
   "metadata": {},
   "outputs": [
    {
     "name": "stdout",
     "output_type": "stream",
     "text": [
      "Creating a deck\n",
      "Before shuffled\n",
      "1s 2s 3s 4s 5s 6s 7s 8s 9s Ts As Js Qs Ks 1h 2h 3h 4h 5h 6h 7h 8h 9h Th Ah Jh Qh Kh 1d 2d 3d 4d 5d 6d 7d 8d 9d Td Ad Jd Qd Kd 1c 2c 3c 4c 5c 6c 7c 8c 9c Tc Ac Jc Qc Kc \n",
      "After shuffled\n",
      "8h Qh 8s Qd As Tc Kd 4s Jh 2c 6h 3h 1c Ks 5d 4d 8d 1d Js 3s 6c 2s Jd 8c 6s 9d 7c 7h Ts 3c 7d 5s Ah Ac 3d Ad Qc Td 5h 9c Qs Jc 2d 5c 9h 4h 4c 2h 7s 1h Kh 9s 1s Th Kc 6d "
     ]
    }
   ],
   "source": [
    "print(\"Creating a deck\")\n",
    "deck = Deck()\n",
    "deck.createDeck()\n",
    "print(\"Before shuffled\")\n",
    "deck.printing()\n",
    "print()\n",
    "print(\"After shuffled\")\n",
    "deck.shuffle()\n",
    "deck.printing()\n"
   ]
  }
 ],
 "metadata": {
  "kernelspec": {
   "display_name": "Python 3",
   "language": "python",
   "name": "python3"
  },
  "language_info": {
   "codemirror_mode": {
    "name": "ipython",
    "version": 3
   },
   "file_extension": ".py",
   "mimetype": "text/x-python",
   "name": "python",
   "nbconvert_exporter": "python",
   "pygments_lexer": "ipython3",
   "version": "3.7.4"
  }
 },
 "nbformat": 4,
 "nbformat_minor": 2
}
