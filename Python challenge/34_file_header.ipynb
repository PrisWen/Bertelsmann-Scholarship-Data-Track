{
 "cells": [
  {
   "cell_type": "code",
   "execution_count": 55,
   "metadata": {},
   "outputs": [],
   "source": [
    "def head(name):\n",
    "    try:\n",
    "        file1 = open(name, 'r') \n",
    "        Lines = file1.readlines() \n",
    "        file1.close()\n",
    "        # Strips the newline character \n",
    "        for line in Lines[:10]: \n",
    "            print(line.strip()) \n",
    "    except:\n",
    "        print('No such file or directory: ', name)"
   ]
  },
  {
   "cell_type": "code",
   "execution_count": null,
   "metadata": {},
   "outputs": [],
   "source": [
    "#main\n",
    "\n",
    "name = input(\"Enter file name:\")\n",
    "head(name)"
   ]
  }
 ],
 "metadata": {
  "kernelspec": {
   "display_name": "Python 3",
   "language": "python",
   "name": "python3"
  },
  "language_info": {
   "codemirror_mode": {
    "name": "ipython",
    "version": 3
   },
   "file_extension": ".py",
   "mimetype": "text/x-python",
   "name": "python",
   "nbconvert_exporter": "python",
   "pygments_lexer": "ipython3",
   "version": "3.7.4"
  }
 },
 "nbformat": 4,
 "nbformat_minor": 2
}
