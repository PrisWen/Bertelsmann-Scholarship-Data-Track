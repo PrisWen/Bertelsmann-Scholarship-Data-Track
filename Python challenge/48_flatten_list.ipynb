{
 "cells": [
  {
   "cell_type": "markdown",
   "metadata": {},
   "source": [
    "Flatten a List \n",
    "\n",
    "Python's lists can contain other lists. When one list occurs inside another the inner list is said to be nested inside the outer list. Each of the inner lists nested within the outer list may also contain nested lists, and those lists may contain additional nested lists to any depth. For example, the following list includes elements that are nested at several different depths: (1, [2, 3], [4, [5, [6, 7] ] ] , [ [ [8], 9], [10]]]. Lists that contain multiple levels of nesting can be useful when describing com-plex relationships between values, but such lists can also make performing some operations on those values difficult because the values are nested at different levels. Flattening a list is the process of converting a list that may contain multiple levels of nested lists into a list that contains all of the same elements without any nesting. For example, flattening the list from the previous paragraph results in [1 , 2, 3, 4, 5, 6, 7, 8, 9, 10]. "
   ]
  },
  {
   "cell_type": "code",
   "execution_count": null,
   "metadata": {},
   "outputs": [],
   "source": [
    "# Recursive function to return a flatten list\n",
    "# @param data is a nested list\n",
    "# @return a flatten list\n",
    "def flatten(data):\n",
    "    if len(data) == 0:\n",
    "        return data\n",
    "    if type(data[0]) == list:\n",
    "        l1 = flatten(data[0])\n",
    "        l2 = flatten(data[1:])\n",
    "        return l1+l2\n",
    "    else:\n",
    "        l1 = data[0]\n",
    "        l2 = flatten(data[1:])\n",
    "        l3 = []\n",
    "        l3.append(l1)\n",
    "        return l3+l2\n",
    "    \n",
    "    \n",
    "# main\n",
    "my_list = [1, [2, 3], [4, [5, [6, 7]]], [[[8], 9], [10]]]\n",
    "print('Nested list: ',my_list, '\\nFlatten list: ',flatten(my_list))"
   ]
  }
 ],
 "metadata": {
  "kernelspec": {
   "display_name": "Python 3",
   "language": "python",
   "name": "python3"
  },
  "language_info": {
   "codemirror_mode": {
    "name": "ipython",
    "version": 3
   },
   "file_extension": ".py",
   "mimetype": "text/x-python",
   "name": "python",
   "nbconvert_exporter": "python",
   "pygments_lexer": "ipython3",
   "version": "3.7.4"
  }
 },
 "nbformat": 4,
 "nbformat_minor": 2
}
