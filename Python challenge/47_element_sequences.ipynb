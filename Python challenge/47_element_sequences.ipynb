{
 "cells": [
  {
   "cell_type": "markdown",
   "metadata": {},
   "source": [
    "Some people like to play a game that constructs a sequence of chemical elements where each element in the sequence begins with the last letter of its predecessor. For example, if a sequence begins with Hydrogen, then the next element must be an element that begins with N, such as Nickel. The element following Nickel must begin with L, such as Lithium. The element sequence that is constructed cannot contain any duplicates. When played alone the goal of the game is to constructed the longest possible sequence of elements. When played with two players, the goal is to select an element that leaves your opponent without an option to add to the sequence.Write a program that reads the name of an element from the user and uses a recursive function to find the longest sequence of elements that begins with that value. Display the sequence once it has been computed. Ensure that your program responds in a reasonable way if the user does not enter a valid element name.Hint: It may take your program up to two minutes to find the longest sequence for some elements. As a result, you might want to use elements like Molybdenum and Magnesium as your first test cases. Each has a longest sequence that is only 8 elements long which your program should find in a fraction of a second."
   ]
  },
  {
   "cell_type": "code",
   "execution_count": null,
   "metadata": {},
   "outputs": [],
   "source": [
    "name_file = 'elements.txt'\n",
    "lines = open(name_file).read().splitlines()\n",
    "elements = []\n",
    "for line in lines:\n",
    "    ele = line.split(',')\n",
    "    elements.append(ele[2])\n",
    "    \n",
    "# Recursive function to return a sequence of elements\n",
    "# @param word string to check\n",
    "# @param elements corpus list \n",
    "# @param sec empty list to add sequence of elements\n",
    "# @return sequence of elements \n",
    "def sequence(word, elements, sec):\n",
    "    if word == '':\n",
    "        return sec \n",
    "    else:\n",
    "        list_find_word = [x for x in elements if x[0].lower() == word[-1] and x not in sec]\n",
    "        if len(list_find_word)>0:\n",
    "            find_word= list_find_word[0]\n",
    "            sec.append(find_word)\n",
    "        else: \n",
    "            find_word=''\n",
    "        return sequence(find_word, elements,sec)\n",
    "    \n",
    "    \n",
    "# main\n",
    "sec=[]\n",
    "name_element = input('Enter element name: ')\n",
    "if name_element in elements:\n",
    "    print(sequence(name_element.lower(), elements, sec))\n",
    "else:\n",
    "    print('Invalid element name')"
   ]
  }
 ],
 "metadata": {
  "kernelspec": {
   "display_name": "Python 3",
   "language": "python",
   "name": "python3"
  },
  "language_info": {
   "codemirror_mode": {
    "name": "ipython",
    "version": 3
   },
   "file_extension": ".py",
   "mimetype": "text/x-python",
   "name": "python",
   "nbconvert_exporter": "python",
   "pygments_lexer": "ipython3",
   "version": "3.7.4"
  }
 },
 "nbformat": 4,
 "nbformat_minor": 2
}
