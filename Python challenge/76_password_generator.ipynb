{
 "cells": [
  {
   "cell_type": "markdown",
   "metadata": {},
   "source": [
    "In this exercise, we’re going to create a password-generation function. Actually, we’re going to create a factory for password-generation functions. That is, I might need to generate a large number of passwords, all of which use the same set of characters. (You know how it is. Some applications require a mix of capital letters, lowercase letters, numbers, and symbols; whereas others require that you only use letters; and still others allow both letters and digits.) You’ll thus call the function create_password_generator with a string. That string will return a function, which itself takes an integer argument"
   ]
  },
  {
   "cell_type": "code",
   "execution_count": 76,
   "metadata": {},
   "outputs": [],
   "source": [
    "import random\n",
    "# Function to generate a password\n",
    "def create_password_generator(characters):\n",
    "    def create_password(length):\n",
    "        new_list = []\n",
    "        for i in range(length):\n",
    "            new_list.append(random.choice(characters))\n",
    "        return ''.join(new_list)\n",
    "    return create_password\n",
    "   \n",
    "\n",
    "# main\n",
    "alpha_password = create_password_generator('abcdef')\n",
    "symbol_password = create_password_generator('!@#$%')\n",
    "print(alpha_password(10))\n",
    "print(symbol_password(10))"
   ]
  }
 ],
 "metadata": {
  "kernelspec": {
   "display_name": "Python 3",
   "language": "python",
   "name": "python3"
  },
  "language_info": {
   "codemirror_mode": {
    "name": "ipython",
    "version": 3
   },
   "file_extension": ".py",
   "mimetype": "text/x-python",
   "name": "python",
   "nbconvert_exporter": "python",
   "pygments_lexer": "ipython3",
   "version": "3.7.4"
  }
 },
 "nbformat": 4,
 "nbformat_minor": 2
}
