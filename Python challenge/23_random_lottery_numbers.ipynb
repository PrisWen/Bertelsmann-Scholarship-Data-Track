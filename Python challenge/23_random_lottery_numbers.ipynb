{
 "cells": [
  {
   "cell_type": "code",
   "execution_count": 15,
   "metadata": {},
   "outputs": [
    {
     "name": "stdout",
     "output_type": "stream",
     "text": [
      "[5, 9, 17, 19, 35, 46]\n"
     ]
    }
   ],
   "source": [
    "# In order to win the top prize in a particular lottery, one must match all 6 numbers on his or her ticket\n",
    "# to the 6 numbers between 1 and 49 that are drawn by the lottery organizer. Write a program that generates a random\n",
    "# selection of 6 numbers for a lottery ticket. Ensure that the 6 numbers selected do not contain any duplicates.\n",
    "# Display the numbers in ascending order.\n",
    "\n",
    "# import random  \n",
    "import random \n",
    "  \n",
    "# Generate list of 49 numbers\n",
    "numbers = [i for i in range(50)]\n",
    "# Prints ordered list of random items of length 6 from the given list. \n",
    "print(sorted(random.sample(numbers, 6))) "
   ]
  },
  {
   "cell_type": "code",
   "execution_count": null,
   "metadata": {},
   "outputs": [],
   "source": []
  }
 ],
 "metadata": {
  "kernelspec": {
   "display_name": "Python 3",
   "language": "python",
   "name": "python3"
  },
  "language_info": {
   "codemirror_mode": {
    "name": "ipython",
    "version": 3
   },
   "file_extension": ".py",
   "mimetype": "text/x-python",
   "name": "python",
   "nbconvert_exporter": "python",
   "pygments_lexer": "ipython3",
   "version": "3.7.4"
  }
 },
 "nbformat": 4,
 "nbformat_minor": 2
}
