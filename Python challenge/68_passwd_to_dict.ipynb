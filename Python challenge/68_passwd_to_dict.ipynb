{
 "cells": [
  {
   "cell_type": "markdown",
   "metadata": {},
   "source": [
    "In this exercise, write a function, passwd_to_dict, that readsfrom a Unix-style “password file,” commonly stored as/etc/passwd, and returns a dict based on it."
   ]
  },
  {
   "cell_type": "code",
   "execution_count": null,
   "metadata": {},
   "outputs": [],
   "source": [
    "# Function to return a dict with username as a key and the user’s unique ID number as value\n",
    "# @param filename\n",
    "# @return dict with username and ID number\n",
    "def passwd_to_dict(filename):\n",
    "    output_dict ={}\n",
    "    for line in open(filename):\n",
    "        if not line.startswith(('#','\\n')):\n",
    "            new_line = line.split(':')\n",
    "            output_dict[new_line[0]] = int(new_line[2])\n",
    "    return output_dict\n",
    "\n",
    "\n",
    "# main\n",
    "print(passwd_to_dict('passwd.txt'))"
   ]
  }
 ],
 "metadata": {
  "kernelspec": {
   "display_name": "Python 3",
   "language": "python",
   "name": "python3"
  },
  "language_info": {
   "codemirror_mode": {
    "name": "ipython",
    "version": 3
   },
   "file_extension": ".py",
   "mimetype": "text/x-python",
   "name": "python",
   "nbconvert_exporter": "python",
   "pygments_lexer": "ipython3",
   "version": "3.7.4"
  }
 },
 "nbformat": 4,
 "nbformat_minor": 2
}
