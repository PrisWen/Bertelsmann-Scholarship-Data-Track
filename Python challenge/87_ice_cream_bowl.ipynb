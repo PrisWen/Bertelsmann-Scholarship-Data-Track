{
 "cells": [
  {
   "cell_type": "markdown",
   "metadata": {},
   "source": [
    "In this exercise, we’re going to see a small-scale version of that. In the previous exercise, we created a Scoop class that represents one scoop of ice cream. If we’re really going to model the real world, though, we should have another object into which we can put the scoops. I thus want you to create a Bowl class, representing a bowl into which we can put our ice cream"
   ]
  },
  {
   "cell_type": "code",
   "execution_count": null,
   "metadata": {},
   "outputs": [],
   "source": [
    "class Scoop():\n",
    "    def __init__(self, flavor):\n",
    "        self.flavor = flavor\n",
    "\n",
    "    def __repr__(self):\n",
    "        return self.flavor\n",
    "    \n",
    "        \n",
    "class Bowl():\n",
    "    def __init__(self):\n",
    "        self.scoops = []\n",
    "\n",
    "    def __repr__(self):\n",
    "        return ' '.join([str(scoop) for scoop in self.scoops])\n",
    "\n",
    "    \n",
    "    def add_scoops(self,*new_scoops):\n",
    "        for scoop in new_scoops:\n",
    "            self.scoops.append(scoop)\n",
    "            \n",
    "            \n",
    "# main\n",
    "sl = Scoop('chocolate') \n",
    "s2 = Scoop('vanilla') \n",
    "s3 = Scoop('persimmon') \n",
    "b = Bowl()\n",
    "b.add_scoops(sl, s2) \n",
    "b.add_scoops(s3) \n",
    "print(b) "
   ]
  }
 ],
 "metadata": {
  "kernelspec": {
   "display_name": "Python 3",
   "language": "python",
   "name": "python3"
  },
  "language_info": {
   "codemirror_mode": {
    "name": "ipython",
    "version": 3
   },
   "file_extension": ".py",
   "mimetype": "text/x-python",
   "name": "python",
   "nbconvert_exporter": "python",
   "pygments_lexer": "ipython3",
   "version": "3.7.4"
  }
 },
 "nbformat": 4,
 "nbformat_minor": 2
}
