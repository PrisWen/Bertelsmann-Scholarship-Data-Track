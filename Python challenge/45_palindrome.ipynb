{
 "cells": [
  {
   "cell_type": "markdown",
   "metadata": {},
   "source": [
    "The notion of a palindrome was introduced previously in one of our previous coding challenges. In this exercise you will write a recursive function that determines whether or not a string is a palindrome. The empty string is a palindrome, as is any string containing only one character. Any longer string is a palindrome if its first and last characters match, and if the string formed by removing the first and last characters is also a palindrome.Write a main program that reads a string from the user and uses your recursive function to determine whether or not it is a palindrome. Then your program should display an appropriate message for the user."
   ]
  },
  {
   "cell_type": "code",
   "execution_count": null,
   "metadata": {},
   "outputs": [],
   "source": [
    "# Recursive function to check if a string is a palindrome\n",
    "# @param val string to check\n",
    "# @return boolean value whether it is palindrome or not\n",
    "def palindrome(val):\n",
    "    if val == '':\n",
    "        return True\n",
    "    else: \n",
    "        if val[0]==val[-1]:\n",
    "            return palindrome(val[1:-1])\n",
    "        else:\n",
    "            return False\n",
    "        \n",
    "        \n",
    "# main\n",
    "my_string = input('Enter a string: ').strip().lower()\n",
    "if palindrome(my_string):\n",
    "    print(my_string, 'is a palindrome')\n",
    "else:\n",
    "    print(my_string, 'is not a palindrome')"
   ]
  }
 ],
 "metadata": {
  "kernelspec": {
   "display_name": "Python 3",
   "language": "python",
   "name": "python3"
  },
  "language_info": {
   "codemirror_mode": {
    "name": "ipython",
    "version": 3
   },
   "file_extension": ".py",
   "mimetype": "text/x-python",
   "name": "python",
   "nbconvert_exporter": "python",
   "pygments_lexer": "ipython3",
   "version": "3.7.4"
  }
 },
 "nbformat": 4,
 "nbformat_minor": 2
}
