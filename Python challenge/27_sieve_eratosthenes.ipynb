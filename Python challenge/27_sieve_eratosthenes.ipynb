{
 "cells": [
  {
   "cell_type": "code",
   "execution_count": 1,
   "metadata": {},
   "outputs": [],
   "source": [
    "##\n",
    "# Display a list of prime numbers\n",
    "# @param limit the limit number\n",
    "# @return a list containing prime numbers between 2 and limit\n",
    "def primes(limit) :\n",
    "    from math import ceil, sqrt\n",
    "    max_range = limit + 1\n",
    "    sieve = [ True ] * max_range\n",
    "    # max number of multiple to replace by false\n",
    "    max_multiple = int(ceil(sqrt(max_range)))\n",
    "\n",
    "    # multiple of 2\n",
    "    for number in range(4,max_range,2):\n",
    "        sieve[number] = False\n",
    "\n",
    "    # odd numbers\n",
    "    for number in range(3,max_multiple,2):\n",
    "        if sieve[number]:\n",
    "            # verify if number is prime\n",
    "            for j in range(number*number,max_range,number+number):\n",
    "                sieve[j] = False\n",
    "\n",
    "    # list of prime numbers\n",
    "    return [number for number in range(2,max_range) if sieve[number]]"
   ]
  },
  {
   "cell_type": "code",
   "execution_count": 7,
   "metadata": {},
   "outputs": [
    {
     "name": "stdout",
     "output_type": "stream",
     "text": [
      "Limit number of primes 10\n",
      "2,3,5,7,\n",
      "The execution time in seconds was: 1.386934518814087\n"
     ]
    }
   ],
   "source": [
    "from time import time\n",
    "initial_time = time()\n",
    "\n",
    "# Calling the function \"primes\"\n",
    "limit = int(input('Limit number of primes '))\n",
    "prime_numbers = primes(limit)\n",
    "\n",
    "# Displaying primes\n",
    "for i in prime_numbers:\n",
    "    print(i, end=',')\n",
    "final_time = time()\n",
    "\n",
    "## Calculating the execution time\n",
    "execution_time = final_time - initial_time\n",
    "print()\n",
    "print('The execution time in seconds was:',execution_time)"
   ]
  },
  {
   "cell_type": "code",
   "execution_count": null,
   "metadata": {},
   "outputs": [],
   "source": []
  }
 ],
 "metadata": {
  "kernelspec": {
   "display_name": "Python 3",
   "language": "python",
   "name": "python3"
  },
  "language_info": {
   "codemirror_mode": {
    "name": "ipython",
    "version": 3
   },
   "file_extension": ".py",
   "mimetype": "text/x-python",
   "name": "python",
   "nbconvert_exporter": "python",
   "pygments_lexer": "ipython3",
   "version": "3.7.4"
  }
 },
 "nbformat": 4,
 "nbformat_minor": 2
}
