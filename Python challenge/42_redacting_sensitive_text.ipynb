{
 "cells": [
  {
   "cell_type": "markdown",
   "metadata": {},
   "source": [
    "Sensitive information is often removed, or redacted, from documents before they are released to the public. When the documents are released it is common for the redacted text to be replaced with black bars. In this exercise you will write a program that redacts all occurrences of sensitive words in a text file by replacing them with asterisks. Your program should redact sensitive words wherever they occur, even if they occur in the middle of another word. The list of sensitive words will be provided in a separate text file. Save the redacted version of the original text in a new file. The names of the original text file, sensitive words file, and redacted file will all be provided by the user"
   ]
  },
  {
   "cell_type": "code",
   "execution_count": null,
   "metadata": {},
   "outputs": [],
   "source": [
    "import re\n",
    "\n",
    "O_FILE = input('Enter original text file name: ')\n",
    "W_FILE = input('Enter sensitive words file name: ')\n",
    "R_FILE = input('Enter redacted file name: ')\n",
    "\n",
    "#open original file\n",
    "original= open(O_FILE, \"r\")\n",
    "text = ''\n",
    "for line in original:\n",
    "    text += ''.join(line) \n",
    "original.close()\n",
    "\n",
    "#list of sensitive words\n",
    "with open(W_FILE) as f:\n",
    "    sensitive_words = [line.rstrip('\\n') for line in f]\n",
    "\n",
    "#create a new file\n",
    "redacted = open(R_FILE, 'w')\n",
    "\n",
    "#working with regex in order to replace sensitive word (insensitive manner with IGNORECASE)\n",
    "for word in sensitive_words:\n",
    "    text = re.sub(word, '*'*len(word), text, flags=re.IGNORECASE)\n",
    "    \n",
    "redacted.write(text)\n",
    "redacted.close()"
   ]
  }
 ],
 "metadata": {
  "kernelspec": {
   "display_name": "Python 3",
   "language": "python",
   "name": "python3"
  },
  "language_info": {
   "codemirror_mode": {
    "name": "ipython",
    "version": 3
   },
   "file_extension": ".py",
   "mimetype": "text/x-python",
   "name": "python",
   "nbconvert_exporter": "python",
   "pygments_lexer": "ipython3",
   "version": "3.7.4"
  }
 },
 "nbformat": 4,
 "nbformat_minor": 2
}
