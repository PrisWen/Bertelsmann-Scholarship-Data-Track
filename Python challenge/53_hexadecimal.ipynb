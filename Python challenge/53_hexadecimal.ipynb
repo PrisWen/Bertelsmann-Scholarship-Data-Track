{
 "cells": [
  {
   "cell_type": "markdown",
   "metadata": {},
   "source": [
    "For this coding challenge, you need to write a function (hex_output) that takes a hex number and returns the decimal equivalent. That is, if the user enters 50, you’ll assume that it’s a hex number (equal to 0x50) and will print the value 80 to the screen. And no, you shouldn’t convert the number all at once using the int function, although it’s permissible to use int one digit at a time"
   ]
  },
  {
   "cell_type": "code",
   "execution_count": null,
   "metadata": {},
   "outputs": [],
   "source": [
    "# Function to convert hexadecimal number to decimal equivalent\n",
    "# @param data is a hexadecimal number\n",
    "# @return decimal equivalent\n",
    "def hex_output(data):\n",
    "    total = 0\n",
    "    for index, value in enumerate(list(reversed(data))):\n",
    "        total += int(value, 16) * 16 ** index\n",
    "    return total\n",
    "    \n",
    "    \n",
    "# main\n",
    "num_hexa = input('Enter a hexadecimal number: ')\n",
    "print('Decimal equivalent:', hex_output(num_hexa))"
   ]
  }
 ],
 "metadata": {
  "kernelspec": {
   "display_name": "Python 3",
   "language": "python",
   "name": "python3"
  },
  "language_info": {
   "codemirror_mode": {
    "name": "ipython",
    "version": 3
   },
   "file_extension": ".py",
   "mimetype": "text/x-python",
   "name": "python",
   "nbconvert_exporter": "python",
   "pygments_lexer": "ipython3",
   "version": "3.7.4"
  }
 },
 "nbformat": 4,
 "nbformat_minor": 2
}
