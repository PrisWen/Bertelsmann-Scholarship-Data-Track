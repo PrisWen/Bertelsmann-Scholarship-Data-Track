{
 "cells": [
  {
   "cell_type": "markdown",
   "metadata": {},
   "source": [
    "You should then write a function, restaurant, that asks the user to enter an order:  If the user enters the name of a dish on the menu, the program prints the price and the running total. It then asks the user again for their order. If the user enters the name of a dish not on the menu, the program scolds the user (mildly). It then asks the user again for their order. If the user enters an empty string, the program stops prompting and prints the total amount."
   ]
  },
  {
   "cell_type": "code",
   "execution_count": null,
   "metadata": {},
   "outputs": [],
   "source": [
    "MENU = {\n",
    "    'sandwich': 10,\n",
    "    'tea': 7, \n",
    "    'cake': 20}\n",
    "\n",
    "# Function to ask the user to enter orders and print the total\n",
    "def restaurant():\n",
    "    total = 0\n",
    "    while True:\n",
    "        order = input('Enter an order: ').strip()\n",
    "        if not order:\n",
    "            print('Your total is', total)\n",
    "            break\n",
    "        elif order in MENU:\n",
    "            cost = MENU[order]\n",
    "            total += cost\n",
    "            print(f'{order} costs {cost}, total is {total}')\n",
    "        else:\n",
    "            print(f'Sorry, we are fresh out of {order} today.')\n",
    "            \n",
    "\n",
    "# main\n",
    "restaurant()"
   ]
  }
 ],
 "metadata": {
  "kernelspec": {
   "display_name": "Python 3",
   "language": "python",
   "name": "python3"
  },
  "language_info": {
   "codemirror_mode": {
    "name": "ipython",
    "version": 3
   },
   "file_extension": ".py",
   "mimetype": "text/x-python",
   "name": "python",
   "nbconvert_exporter": "python",
   "pygments_lexer": "ipython3",
   "version": "3.7.4"
  }
 },
 "nbformat": 4,
 "nbformat_minor": 2
}
