{
 "cells": [
  {
   "cell_type": "markdown",
   "metadata": {},
   "source": [
    "In this exercise, write two functions. find_longest_word takes a filename as an argument and returns the longest word found in the file.\n",
    "\n",
    "The second function, find_all_longest_words, takes a directory name and returns a dict in which the keys are\n",
    "filenames and the values are the longest words from each file."
   ]
  },
  {
   "cell_type": "code",
   "execution_count": null,
   "metadata": {},
   "outputs": [],
   "source": [
    "import os\n",
    "# Function to return the longest word found in the file\n",
    "# @param filename\n",
    "# @return the longest word found in the file\n",
    "def find_longest_word(filename):\n",
    "    longest_word = ''\n",
    "    with open(filename, encoding='utf8') as my_file:\n",
    "        for line in my_file:\n",
    "            for word in line.strip().split():\n",
    "                if len(word) > len(longest_word):\n",
    "                    longest_word = word\n",
    "    return longest_word\n",
    "\n",
    "# Function to return a dict in which the keys are filenames and the values are the longest words from each file\n",
    "# @param directoryname\n",
    "# @return a dict filenames as keys and the longest words as value\n",
    "def find_all_longest_words(directoryname):\n",
    "    my_dict = {}\n",
    "    with os.scandir(directoryname) as files:\n",
    "        for file in files:\n",
    "            my_dict[file.name] = find_longest_word(os.path.join(directoryname,file.name))\n",
    "    return my_dict\n",
    "    \n",
    "    \n",
    "# main\n",
    "my_dict = find_all_longest_words('books')\n",
    "for key, value in my_dict.items():\n",
    "        print(f'{key}:{value}')"
   ]
  }
 ],
 "metadata": {
  "kernelspec": {
   "display_name": "Python 3",
   "language": "python",
   "name": "python3"
  },
  "language_info": {
   "codemirror_mode": {
    "name": "ipython",
    "version": 3
   },
   "file_extension": ".py",
   "mimetype": "text/x-python",
   "name": "python",
   "nbconvert_exporter": "python",
   "pygments_lexer": "ipython3",
   "version": "3.7.4"
  }
 },
 "nbformat": 4,
 "nbformat_minor": 2
}
