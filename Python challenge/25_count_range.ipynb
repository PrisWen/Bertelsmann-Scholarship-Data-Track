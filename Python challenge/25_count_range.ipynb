{
 "cells": [
  {
   "cell_type": "markdown",
   "metadata": {},
   "source": [
    "Python’s standard library includes a method named count that determines how many times a specific value occurs in a list. In this exercise, you will create a new function named countRange which determines and returns the number of elements within a list that are greater than or equal to some minimum value and less than some maximum value"
   ]
  },
  {
   "cell_type": "code",
   "execution_count": 13,
   "metadata": {},
   "outputs": [],
   "source": [
    "def countRange(list_numbers, min_value, max_value):\n",
    "    count = 0\n",
    "    for number in list_numbers:\n",
    "        if min_value <= number < max_value:\n",
    "            count += 1\n",
    "    return count"
   ]
  },
  {
   "cell_type": "code",
   "execution_count": 28,
   "metadata": {},
   "outputs": [
    {
     "name": "stdout",
     "output_type": "stream",
     "text": [
      "53 89 80 31 41 50 6 42 29 90 \n",
      "min value: 8  max value:  52\n",
      "Exist  5  numbers in range\n"
     ]
    }
   ],
   "source": [
    "import random\n",
    "list_numbers = random.sample(range(1, 100), 10)\n",
    "for number in list_numbers:\n",
    "    print(number, end=' ')\n",
    "min_value = random.randint(1,10)\n",
    "max_value = random.randint(11,100)\n",
    "print()\n",
    "print(\"min value:\",min_value, \" max value: \", max_value)\n",
    "print(\"Exist \",countRange(list_numbers, min_value, max_value), \" numbers in range\")"
   ]
  },
  {
   "cell_type": "code",
   "execution_count": 31,
   "metadata": {},
   "outputs": [
    {
     "name": "stdout",
     "output_type": "stream",
     "text": [
      "0.2682384417406295 0.7091999939447948 0.5058193071510383 0.2129347376953129 0.7617882262738838 0.7229519655226497 0.7197317322662867 0.6429436173625267 0.37637543524937345 0.7703141052426072 \n",
      "min value: 0.15786149319661735  max value:  0.6085062560366887\n",
      "Exist  4  numbers in range\n"
     ]
    }
   ],
   "source": [
    "list_numbers = [random.random() for i in range(10)]\n",
    "for number in list_numbers:\n",
    "    print(number, end=' ')\n",
    "min_value = random.random()\n",
    "max_value = random.random()\n",
    "print()\n",
    "print(\"min value:\",min_value, \" max value: \", max_value)\n",
    "print(\"Exist \",countRange(list_numbers, min_value, max_value), \" numbers in range\")\n"
   ]
  }
 ],
 "metadata": {
  "kernelspec": {
   "display_name": "Python 3",
   "language": "python",
   "name": "python3"
  },
  "language_info": {
   "codemirror_mode": {
    "name": "ipython",
    "version": 3
   },
   "file_extension": ".py",
   "mimetype": "text/x-python",
   "name": "python",
   "nbconvert_exporter": "python",
   "pygments_lexer": "ipython3",
   "version": "3.7.4"
  }
 },
 "nbformat": 4,
 "nbformat_minor": 2
}
