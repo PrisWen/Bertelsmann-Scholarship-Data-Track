{
 "cells": [
  {
   "cell_type": "markdown",
   "metadata": {},
   "source": [
    "Write a function, dictdiff, that takes two dicts as arguments. The function returns a new dict that expresses the difference\n",
    "between the two dicts.\n",
    "If there are no differences between the dicts, dictdiff returns an empty dict.\n",
    "For each key-value pair that differs, the return value of dictdiff will have a key-value pair in which the value is a list containing\n",
    "the values from the two different dicts.\n",
    "If one of the dicts doesn’t contain that key, it should contain None. "
   ]
  },
  {
   "cell_type": "code",
   "execution_count": null,
   "metadata": {},
   "outputs": [],
   "source": [
    "# Function to return the difference between two dicts\n",
    "# @param two dicts\n",
    "# @return a new dict that expresses the difference between the two dicts\n",
    "def dictdiff(dict_1, dict_2):\n",
    "    output_dict = {}\n",
    "    all_keys = dict_1.keys() | dict_2.keys()\n",
    "    for key in all_keys:\n",
    "        value_1 = dict_1.get(key)\n",
    "        value_2 = dict_2.get(key)\n",
    "        if value_1 != value_2:\n",
    "            output_dict[key] = [value_1, value_2]\n",
    "    return output_dict\n",
    "\n",
    "\n",
    "# main\n",
    "d3 = {'a':1, 'b':2, 'd':3}\n",
    "d4 = {'a':1, 'b':2, 'c':4}\n",
    "dictdiff(d3, d4)"
   ]
  }
 ],
 "metadata": {
  "kernelspec": {
   "display_name": "Python 3",
   "language": "python",
   "name": "python3"
  },
  "language_info": {
   "codemirror_mode": {
    "name": "ipython",
    "version": 3
   },
   "file_extension": ".py",
   "mimetype": "text/x-python",
   "name": "python",
   "nbconvert_exporter": "python",
   "pygments_lexer": "ipython3",
   "version": "3.7.4"
  }
 },
 "nbformat": 4,
 "nbformat_minor": 2
}
