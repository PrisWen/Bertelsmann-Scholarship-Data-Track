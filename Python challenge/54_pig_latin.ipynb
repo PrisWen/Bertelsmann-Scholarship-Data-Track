{
 "cells": [
  {
   "cell_type": "code",
   "execution_count": null,
   "metadata": {},
   "outputs": [],
   "source": [
    "# Function to return the translation of a word into Pig Latin\n",
    "# @param word is a english word\n",
    "# @return word traslated to Pig Latin\n",
    "def pig_latin(word):\n",
    "    if len(word) > 0:\n",
    "        return word + 'way' if word[0] in ('aeiou') else word[1:] + word[0] + 'ay'\n",
    "    else:\n",
    "        return ''\n",
    "    \n",
    "    \n",
    "# main\n",
    "print(pig_latin(input('Enter a word: ')))"
   ]
  }
 ],
 "metadata": {
  "kernelspec": {
   "display_name": "Python 3",
   "language": "python",
   "name": "python3"
  },
  "language_info": {
   "codemirror_mode": {
    "name": "ipython",
    "version": 3
   },
   "file_extension": ".py",
   "mimetype": "text/x-python",
   "name": "python",
   "nbconvert_exporter": "python",
   "pygments_lexer": "ipython3",
   "version": "3.7.4"
  }
 },
 "nbformat": 4,
 "nbformat_minor": 2
}
