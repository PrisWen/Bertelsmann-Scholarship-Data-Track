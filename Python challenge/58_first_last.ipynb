{
 "cells": [
  {
   "cell_type": "markdown",
   "metadata": {},
   "source": [
    "Write a function, first last, that takes a sequence (string, list, or tuple) and returns the first and last elements of that sequence, in a two-element sequence of the sametype. So firstlast('abc') will return the string ac, while firstlast([1,2,3,4]) will return the list [1,4]."
   ]
  },
  {
   "cell_type": "code",
   "execution_count": null,
   "metadata": {},
   "outputs": [],
   "source": [
    "# Function to first and last element of a sequence\n",
    "# @param str or list, it is a sequence\n",
    "# @return first and last element of the sequence\n",
    "def first_last(data):\n",
    "    return data[:1] + data[-1:]\n",
    "\n",
    "\n",
    "# main\n",
    "\n",
    "# case 1: string\n",
    "print(first_last('abc'))\n",
    "\n",
    "# case 2: list\n",
    "print(first_last([1,2,3,4]))"
   ]
  }
 ],
 "metadata": {
  "kernelspec": {
   "display_name": "Python 3",
   "language": "python",
   "name": "python3"
  },
  "language_info": {
   "codemirror_mode": {
    "name": "ipython",
    "version": 3
   },
   "file_extension": ".py",
   "mimetype": "text/x-python",
   "name": "python",
   "nbconvert_exporter": "python",
   "pygments_lexer": "ipython3",
   "version": "3.7.4"
  }
 },
 "nbformat": 4,
 "nbformat_minor": 2
}
