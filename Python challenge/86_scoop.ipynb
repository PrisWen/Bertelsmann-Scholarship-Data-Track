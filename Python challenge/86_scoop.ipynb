{
 "cells": [
  {
   "cell_type": "markdown",
   "metadata": {},
   "source": [
    "If you’re going to be programming with objects, then you’ll be creating classes—lots of classes. Each class should represent one type of object and its behavior. You can think of a class as a factory for creating objects of that type—so a Car class would create cars, also known as “car objects” or “instances of Car.” Your beat-up sedan would be a car object, as would a fancy new luxury SUV.\n",
    "In this exercise, you’ll define a class, Scoop, that represents a single scoop of ice cream. Each scoop should have a single attribute, flavor, a string that you can initialize when you create the instance of Scoop.\n",
    "Once your class is created, write a function (create_scoops) that creates three instances of the Scoop class, each of which has a different flavor (figure 9.1). Put these three instances into a list called scoops (figure 9.2). Finally, iterate over your scoops list, printing the flavor of each scoop of ice cream you’ve created."
   ]
  },
  {
   "cell_type": "code",
   "execution_count": null,
   "metadata": {},
   "outputs": [],
   "source": [
    "class Scoop():\n",
    "    def __init__(self, flavor):\n",
    "        self.flavor = flavor\n",
    "\n",
    "    def create_scoop():\n",
    "        scoops = [Scoop(flavor) for flavor in (\"chocolate\", \"vanilla\", \"persimmon\")]\n",
    "        for scoop in scoops:\n",
    "            print(scoop.flavor)\n",
    "        \n",
    "\n",
    "Scoop.create_scoop()"
   ]
  }
 ],
 "metadata": {
  "kernelspec": {
   "display_name": "Python 3",
   "language": "python",
   "name": "python3"
  },
  "language_info": {
   "codemirror_mode": {
    "name": "ipython",
    "version": 3
   },
   "file_extension": ".py",
   "mimetype": "text/x-python",
   "name": "python",
   "nbconvert_exporter": "python",
   "pygments_lexer": "ipython3",
   "version": "3.7.4"
  }
 },
 "nbformat": 4,
 "nbformat_minor": 2
}
