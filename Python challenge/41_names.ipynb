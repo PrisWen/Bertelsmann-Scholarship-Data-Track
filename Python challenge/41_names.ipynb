{
 "cells": [
  {
   "cell_type": "markdown",
   "metadata": {},
   "source": [
    "The baby names data set consists of over 200 files (data sets are attached to this message). Each file contains a list of 100 names, along with the number of times each name was used. Entries in the files are ordered from most frequently used to least frequently used. There are two files for each year: one containing names used for girls and the other containing names used for boys. The data set includes data for every year from 1900 to 2012.Write a program that reads every file in the data set and identifies all of the names that were most popular in at least one year. Your program should output two lists: one containing the most popular names for boys and the other containing the most popular names for girls. Neither of your lists should include any repeated values.Good Luck!"
   ]
  },
  {
   "cell_type": "code",
   "execution_count": null,
   "metadata": {},
   "outputs": [],
   "source": [
    "import os\n",
    "import glob\n",
    "import pandas as pd\n",
    "def get_merged_csv(flist, **kwargs):\n",
    "    return pd.concat([pd.read_csv(f, **kwargs) for f in flist], ignore_index=True)\n",
    "\n",
    "path = \"./BabyNames\"\n",
    "# find by names (boys/girls) and merge\n",
    "fmask = os.path.join(path, '*_GirlsNames.txt')\n",
    "df_merge_g = get_merged_csv(glob.glob(fmask), index_col=None,  sep=\" \", header=None)\n",
    "df_merge_g.columns = [\"name\", \"count\"]\n",
    "\n",
    "fmask = os.path.join(path, '*_BoysNames.txt')\n",
    "df_merge_b = get_merged_csv(glob.glob(fmask), index_col=None,  sep=\" \", header=None)\n",
    "df_merge_b.columns = [\"name\", \"count\"]\n",
    "\n",
    "#group by names and sum\n",
    "final_result_girls = df_merge_g.groupby(['name'],as_index=False)['count'].sum()\n",
    "final_result_boys = df_merge_b.groupby(['name'],as_index=False)['count'].sum()\n",
    "\n",
    "# top 5 popular names\n",
    "print('POPULAR NAMES GIRLS')\n",
    "print(final_result_girls.sort_values(by=['count'], ascending=False).head().to_string(index=False))\n",
    "print()\n",
    "print('POPULAR NAMES BOYS')\n",
    "print(final_result_boys.sort_values(by=['count'], ascending=False).head().to_string(index=False))"
   ]
  },
  {
   "cell_type": "code",
   "execution_count": null,
   "metadata": {},
   "outputs": [],
   "source": []
  }
 ],
 "metadata": {
  "kernelspec": {
   "display_name": "Python 3",
   "language": "python",
   "name": "python3"
  },
  "language_info": {
   "codemirror_mode": {
    "name": "ipython",
    "version": 3
   },
   "file_extension": ".py",
   "mimetype": "text/x-python",
   "name": "python",
   "nbconvert_exporter": "python",
   "pygments_lexer": "ipython3",
   "version": "3.7.4"
  }
 },
 "nbformat": 4,
 "nbformat_minor": 2
}
