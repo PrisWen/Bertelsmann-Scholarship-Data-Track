{
 "cells": [
  {
   "cell_type": "markdown",
   "metadata": {},
   "source": [
    "In this exercise, I want you to write a get_sv function that returns a set of all “supervocalic” words in the dict.\n",
    "Simply put, such\n",
    "words contain all five vowels in English (a, e, i, o, and u),  in any order and any number of times. Your function should find all of the words that match this definition (i.e., contain a, e, i, o, and u) and return a set containing them."
   ]
  },
  {
   "cell_type": "code",
   "execution_count": null,
   "metadata": {},
   "outputs": [],
   "source": [
    "# Function to receive a file  and return a set of supervocalics words (contains a,e,i,o,u) \n",
    "def get_sv(filename):\n",
    "    vowels = {'a','e','i','o','u'}\n",
    "    file = open(filename) \n",
    "    my_words = file.read().splitlines()\n",
    "    return {ele for ele in my_words if vowels < set(ele)}\n",
    "\n",
    "\n",
    "# main\n",
    "print(len(get_sv('words.txt')))"
   ]
  }
 ],
 "metadata": {
  "kernelspec": {
   "display_name": "Python 3",
   "language": "python",
   "name": "python3"
  },
  "language_info": {
   "codemirror_mode": {
    "name": "ipython",
    "version": 3
   },
   "file_extension": ".py",
   "mimetype": "text/x-python",
   "name": "python",
   "nbconvert_exporter": "python",
   "pygments_lexer": "ipython3",
   "version": "3.7.4"
  }
 },
 "nbformat": 4,
 "nbformat_minor": 2
}
