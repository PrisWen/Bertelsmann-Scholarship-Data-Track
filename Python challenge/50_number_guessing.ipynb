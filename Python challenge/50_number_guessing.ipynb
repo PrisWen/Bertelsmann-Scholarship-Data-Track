{
 "cells": [
  {
   "cell_type": "code",
   "execution_count": null,
   "metadata": {},
   "outputs": [],
   "source": [
    "# Function to choose a number and ask the user to guess what number has been choosen\n",
    "def guessing_game():\n",
    "    import random\n",
    "    random_number = random.randint(0,100)\n",
    "    try:\n",
    "        my_number = int(input('Enter and guess the number: '))\n",
    "        while(my_number != random_number):\n",
    "            if my_number > random_number:\n",
    "                print('Too high')\n",
    "            else:\n",
    "                print('Too low')\n",
    "            my_number = int(input('Enter and guess the number: '))\n",
    "        print('Just right')\n",
    "    except:\n",
    "        print('Value error')\n",
    "        \n",
    "\n",
    "# main\n",
    "guessing_game()"
   ]
  }
 ],
 "metadata": {
  "kernelspec": {
   "display_name": "Python 3",
   "language": "python",
   "name": "python3"
  },
  "language_info": {
   "codemirror_mode": {
    "name": "ipython",
    "version": 3
   },
   "file_extension": ".py",
   "mimetype": "text/x-python",
   "name": "python",
   "nbconvert_exporter": "python",
   "pygments_lexer": "ipython3",
   "version": "3.7.4"
  }
 },
 "nbformat": 4,
 "nbformat_minor": 2
}
