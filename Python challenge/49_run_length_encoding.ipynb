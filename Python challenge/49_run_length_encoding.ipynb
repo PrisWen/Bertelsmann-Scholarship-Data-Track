{
 "cells": [
  {
   "cell_type": "markdown",
   "metadata": {},
   "source": [
    "Run-length encoding is a simple data compression technique that can be effective when repeated values occur at adjacent positions within a list. Compression is achieved by replacing groups of repeated values with one copy of the value, followed by the number of times that it should be repeated.\n",
    "For example, the list:\n",
    "\n",
    "[\"A\", \"A\", \"A\", \"A\", \"A\", \"A\", \"A\", \"A\", \"A\", \"A\", \"A\", \"A\", \"B\", \"B\",\"B\", \"B\", \"A\", \"A\", \"A\", \"A\", \"A\", \"A\", \"B\"]\n",
    "\n",
    "would be compressed as\n",
    "\n",
    "[\"A\", 12, \"B\", 4, \"A\", 6, \"B\", 1]\n",
    "\n",
    "Decompression is performed by replicating each value in the list the number of times indicated.\n",
    "Write a recursive function that implements the run-length compression technique described above. Your function will take a list or a string as its only argument. It should return the run-length compressed list as its only result. Include a main program that reads a string from the user, compresses it, and displays the run-length encoded result"
   ]
  },
  {
   "cell_type": "code",
   "execution_count": null,
   "metadata": {},
   "outputs": [],
   "source": [
    "# Recursive function to return a compressed list\n",
    "# @param data is a list or string\n",
    "# @return a compressed list\n",
    "def compression(data):\n",
    "    if len(data) == 0:\n",
    "        return [] \n",
    "    pos = 0 \n",
    "    letter = data[pos]\n",
    "    while(pos+1 < len(data) and data[pos] == data[pos+1]):\n",
    "        pos+=1\n",
    "    return [letter,pos+1] + compression(data[pos+1:])\n",
    "\n",
    "\n",
    "# main\n",
    "data = [\"A\", \"A\", \"A\", \"A\", \"A\", \"A\", \"A\", \"A\", \"A\", \"A\", \"A\", \"A\",\"B\", \"B\",\"B\", \"B\", \"A\", \"A\", \"A\", \"A\", \"A\", \"A\", \"B\"]\n",
    "print('Original data: ',data, '\\nCompressed data: ',compression(data))"
   ]
  }
 ],
 "metadata": {
  "kernelspec": {
   "display_name": "Python 3",
   "language": "python",
   "name": "python3"
  },
  "language_info": {
   "codemirror_mode": {
    "name": "ipython",
    "version": 3
   },
   "file_extension": ".py",
   "mimetype": "text/x-python",
   "name": "python",
   "nbconvert_exporter": "python",
   "pygments_lexer": "ipython3",
   "version": "3.7.4"
  }
 },
 "nbformat": 4,
 "nbformat_minor": 2
}
