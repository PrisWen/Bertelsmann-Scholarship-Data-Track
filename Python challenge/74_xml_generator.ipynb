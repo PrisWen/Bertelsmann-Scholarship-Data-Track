{
 "cells": [
  {
   "cell_type": "markdown",
   "metadata": {},
   "source": [
    "Write a function, myxml, that allows you to create simple XML output. "
   ]
  },
  {
   "cell_type": "code",
   "execution_count": null,
   "metadata": {},
   "outputs": [],
   "source": [
    "# Function to create a XML output\n",
    "# @param tagname\n",
    "# @param content (optional)\n",
    "# @param kwargs (optional)\n",
    "# @return XML output\n",
    "def myxml(tagname, content='', **kwargs):\n",
    "    attrs = ''.join([f' {key}=\"{value}\"' for key, value in kwargs.items()])\n",
    "    return f'<{tagname}{attrs}>{content}</{tagname}>'\n",
    "\n",
    "\n",
    "# main\n",
    "print(myxml('foo'))\n",
    "print(myxml('foo','bar'))\n",
    "print(myxml('foo','bar', a=1, b=2))"
   ]
  }
 ],
 "metadata": {
  "kernelspec": {
   "display_name": "Python 3",
   "language": "python",
   "name": "python3"
  },
  "language_info": {
   "codemirror_mode": {
    "name": "ipython",
    "version": 3
   },
   "file_extension": ".py",
   "mimetype": "text/x-python",
   "name": "python",
   "nbconvert_exporter": "python",
   "pygments_lexer": "ipython3",
   "version": "3.7.4"
  }
 },
 "nbformat": 4,
 "nbformat_minor": 2
}
