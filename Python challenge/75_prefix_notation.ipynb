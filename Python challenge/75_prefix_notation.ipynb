{
 "cells": [
  {
   "cell_type": "markdown",
   "metadata": {},
   "source": [
    "In Python, as in real life, we normally write mathematics using infix notation, as in 2+3.But there’s also something known as prefix notation, in which the operator precedes the arguments.Using prefix notation, we would write + 2 3. There’s also postfix notation, sometimes known as “reverse Polish notation” (or RPN), which is still in use on HP brand calculators."
   ]
  },
  {
   "cell_type": "code",
   "execution_count": null,
   "metadata": {},
   "outputs": [],
   "source": [
    "# Function for Addition.\n",
    "def add(a, b):\n",
    "    return a+b\n",
    "\n",
    "# Function for Subtraction.    \n",
    "def sub(a, b):\n",
    "    return a-b\n",
    "\n",
    "## Function for Multiplication.   \n",
    "def mul(a, b):\n",
    "    return a*b\n",
    "\n",
    "# Function for Division.   \n",
    "def div(a, b):\n",
    "    return a/b\n",
    "\n",
    "# Function for Power.    \n",
    "def pow(a, b):\n",
    "    return a ** b\n",
    "\n",
    "# Function for Modulo.    \n",
    "def mod(a, b):\n",
    "    return a % b\n",
    "\n",
    "# Function that takes infix notation to calculate operations\n",
    "def calc(to_solve):\n",
    "    operations = {'+': add, '-': sub, '*': mul, '/': div, '**': pow, '%': mod}\n",
    "    op, first_s, second_s = to_solve.split()\n",
    "    first = int(first_s)\n",
    "    second = int(second_s)\n",
    "    return operations[op](first, second)\n",
    "\n",
    "\n",
    "# main\n",
    "print(calc('% 5 2'))"
   ]
  }
 ],
 "metadata": {
  "kernelspec": {
   "display_name": "Python 3",
   "language": "python",
   "name": "python3"
  },
  "language_info": {
   "codemirror_mode": {
    "name": "ipython",
    "version": 3
   },
   "file_extension": ".py",
   "mimetype": "text/x-python",
   "name": "python",
   "nbconvert_exporter": "python",
   "pygments_lexer": "ipython3",
   "version": "3.7.4"
  }
 },
 "nbformat": 4,
 "nbformat_minor": 2
}
